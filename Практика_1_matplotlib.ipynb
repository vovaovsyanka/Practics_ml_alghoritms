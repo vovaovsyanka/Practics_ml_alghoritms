{
  "nbformat": 4,
  "nbformat_minor": 0,
  "metadata": {
    "colab": {
      "provenance": [],
      "toc_visible": true
    },
    "kernelspec": {
      "name": "python3",
      "display_name": "Python 3"
    },
    "language_info": {
      "name": "python"
    }
  },
  "cells": [
    {
      "cell_type": "markdown",
      "source": [
        "1.3 задание"
      ],
      "metadata": {
        "id": "ocE3LuCvRnlf"
      }
    },
    {
      "cell_type": "code",
      "execution_count": null,
      "metadata": {
        "id": "J0q0FM1RPJlR"
      },
      "outputs": [],
      "source": [
        "x = 5 >= 2\n",
        "A = {1, 3, 7, 8}\n",
        "B = {2, 4, 5, 10, 'apple'}\n",
        "C = A & B\n",
        "df = 'Антонова Антонина', 34, 'ж'\n",
        "z = 'type'\n",
        "D = [1, 'title', 2, 'content']"
      ]
    },
    {
      "cell_type": "code",
      "source": [
        "print(x,\"--\", type(x),\"\\n\",A,\"--\", type(A),\"\\n\",B,\"--\", type(B),\"\\n\",C,\"--\", type(C),\"\\n\",df,\"--\", type(df),\"\\n\",z,\"--\",type(z),\"\\n\",D,\"--\", type(D))"
      ],
      "metadata": {
        "colab": {
          "base_uri": "https://localhost:8080/"
        },
        "id": "PyBSEl4iQsy1",
        "outputId": "7f2da36f-dba5-4a11-9ef7-e318b9a31081"
      },
      "execution_count": null,
      "outputs": [
        {
          "output_type": "stream",
          "name": "stdout",
          "text": [
            "True -- <class 'bool'> \n",
            " {8, 1, 3, 7} -- <class 'set'> \n",
            " {2, 4, 5, 10, 'apple'} -- <class 'set'> \n",
            " set() -- <class 'set'> \n",
            " ('Антонова Антонина', 34, 'ж') -- <class 'tuple'> \n",
            " type -- <class 'str'> \n",
            " [1, 'title', 2, 'content'] -- <class 'list'>\n"
          ]
        }
      ]
    },
    {
      "cell_type": "markdown",
      "source": [
        "2.3 задание"
      ],
      "metadata": {
        "id": "aVNGViaiRmvv"
      }
    },
    {
      "cell_type": "code",
      "source": [
        "x = int(input())\n",
        "if (x>5):\n",
        "  print(\"x - (5, +infinity)\")\n",
        "elif (x>=-5):\n",
        "  print(\"x - [-5, 5]\")\n",
        "else:\n",
        "  print(\"x - (-infinity, -5)\")"
      ],
      "metadata": {
        "colab": {
          "base_uri": "https://localhost:8080/"
        },
        "id": "NiMBi6DlRlQo",
        "outputId": "1e9a8f28-eff5-406a-9de6-53efb0cf2539"
      },
      "execution_count": null,
      "outputs": [
        {
          "output_type": "stream",
          "name": "stdout",
          "text": [
            "7\n",
            "x - (5, +infinity)\n"
          ]
        }
      ]
    },
    {
      "cell_type": "markdown",
      "source": [
        "3.3.1 задание"
      ],
      "metadata": {
        "id": "0lsdl4IiSZEp"
      }
    },
    {
      "cell_type": "code",
      "source": [
        "x = 10\n",
        "while (x>=1):\n",
        "  print(x)\n",
        "  x-=3"
      ],
      "metadata": {
        "colab": {
          "base_uri": "https://localhost:8080/"
        },
        "id": "S0eu4b6LSfkg",
        "outputId": "9232b2b1-2955-4e31-d731-46f71cbcea82"
      },
      "execution_count": null,
      "outputs": [
        {
          "output_type": "stream",
          "name": "stdout",
          "text": [
            "10\n",
            "7\n",
            "4\n",
            "1\n"
          ]
        }
      ]
    },
    {
      "cell_type": "markdown",
      "source": [
        "3.3.2"
      ],
      "metadata": {
        "id": "8cz705jGTEgz"
      }
    },
    {
      "cell_type": "code",
      "source": [
        "human = [\"рост\", \"вес\", \"уровень знаний\", \"ловкость\", \"склонность к магии\", \"уровень\"]\n",
        "human"
      ],
      "metadata": {
        "colab": {
          "base_uri": "https://localhost:8080/"
        },
        "id": "dg5R5TUNTHiR",
        "outputId": "8cc366df-06af-4708-d105-e7cc9a61dcba"
      },
      "execution_count": null,
      "outputs": [
        {
          "output_type": "execute_result",
          "data": {
            "text/plain": [
              "['рост', 'вес', 'уровень знаний', 'ловкость', 'склонность к магии', 'уровень']"
            ]
          },
          "metadata": {},
          "execution_count": 5
        }
      ]
    },
    {
      "cell_type": "markdown",
      "source": [
        "3.3.3"
      ],
      "metadata": {
        "id": "-WIH4eECTyyb"
      }
    },
    {
      "cell_type": "code",
      "source": [
        "import numpy as np\n",
        "\n",
        "array=np.arange(2,16)\n",
        "array"
      ],
      "metadata": {
        "colab": {
          "base_uri": "https://localhost:8080/"
        },
        "id": "K2TSlki7T1MM",
        "outputId": "793e9607-f928-4a7c-d20a-530760886c14"
      },
      "execution_count": null,
      "outputs": [
        {
          "output_type": "execute_result",
          "data": {
            "text/plain": [
              "array([ 2,  3,  4,  5,  6,  7,  8,  9, 10, 11, 12, 13, 14, 15])"
            ]
          },
          "metadata": {},
          "execution_count": 6
        }
      ]
    },
    {
      "cell_type": "markdown",
      "source": [
        "3.3.4"
      ],
      "metadata": {
        "id": "R296CXVeUgln"
      }
    },
    {
      "cell_type": "code",
      "source": [
        "for i in range(105,4,-25):\n",
        "  print(i)"
      ],
      "metadata": {
        "colab": {
          "base_uri": "https://localhost:8080/"
        },
        "id": "_Dazx5rIUhwF",
        "outputId": "e24f8615-f6dc-4478-a2e3-470d0cbdda0b"
      },
      "execution_count": null,
      "outputs": [
        {
          "output_type": "stream",
          "name": "stdout",
          "text": [
            "105\n",
            "80\n",
            "55\n",
            "30\n",
            "5\n"
          ]
        }
      ]
    },
    {
      "cell_type": "markdown",
      "source": [
        "3.3.5"
      ],
      "metadata": {
        "id": "UYt31JjsUqhl"
      }
    },
    {
      "cell_type": "code",
      "source": [
        "x = [0, 1, 2, 3, 4, 5, 6, 7, 8, 9]\n",
        "if (len(x)%2==0):\n",
        "  x[::2]=x[-2::-2]\n",
        "else:\n",
        "  x[::2]=x[-1::-2]\n",
        "x"
      ],
      "metadata": {
        "colab": {
          "base_uri": "https://localhost:8080/"
        },
        "id": "1sRQ_iqbU5NE",
        "outputId": "720c8eee-cc35-4706-b3a7-a411fbeea1f4"
      },
      "execution_count": null,
      "outputs": [
        {
          "output_type": "execute_result",
          "data": {
            "text/plain": [
              "[8, 1, 6, 3, 4, 5, 2, 7, 0, 9]"
            ]
          },
          "metadata": {},
          "execution_count": 8
        }
      ]
    },
    {
      "cell_type": "markdown",
      "source": [
        "4.3.1"
      ],
      "metadata": {
        "id": "3NA89GjKWBY6"
      }
    },
    {
      "cell_type": "code",
      "source": [
        "import matplotlib.pyplot as plt\n",
        "\n",
        "x = np.random.rand(10)\n",
        "print(np.mean(x))\n",
        "print(np.median(x))\n",
        "plt.grid()\n",
        "plt.scatter(np.arange(0,len(x)), x)\n",
        "plt.show()\n",
        "x"
      ],
      "metadata": {
        "colab": {
          "base_uri": "https://localhost:8080/",
          "height": 503
        },
        "id": "69b_RHbHWC0w",
        "outputId": "d16709c0-a9af-4709-ada5-a20eb3538428"
      },
      "execution_count": null,
      "outputs": [
        {
          "output_type": "stream",
          "name": "stdout",
          "text": [
            "0.5204238270366114\n",
            "0.4310461497219663\n"
          ]
        },
        {
          "output_type": "display_data",
          "data": {
            "text/plain": [
              "<Figure size 640x480 with 1 Axes>"
            ],
            "image/png": "[encoded data removed]"
          },
          "metadata": {}
        },
        {
          "output_type": "execute_result",
          "data": {
            "text/plain": [
              "array([0.438958  , 0.40663538, 0.23554553, 0.19202706, 0.8693    ,\n",
              "       0.78887409, 0.79202198, 0.31284981, 0.4231343 , 0.74489213])"
            ]
          },
          "metadata": {},
          "execution_count": 9
        }
      ]
    },
    {
      "cell_type": "markdown",
      "source": [
        "4.3.2"
      ],
      "metadata": {
        "id": "aTdnNaUi8i6D"
      }
    },
    {
      "cell_type": "code",
      "source": [
        "import math as m\n",
        "import numpy as np\n",
        "import matplotlib.pyplot as plt\n",
        "\n",
        "mas = np.array([])\n",
        "for i in range(1, 11):\n",
        "  x = m.sqrt(1+m.e**m.sqrt(i)+m.cos(i**2))/abs(1-m.sin(i)**3)+m.log(abs(2*i))\n",
        "  mas = np.append(mas, x)\n",
        "mas1 = mas[:5]\n",
        "plt.grid()\n",
        "plt.plot(np.arange(1, 11), mas)\n",
        "plt.scatter(np.arange(1, 6), mas1)\n",
        "plt.show()"
      ],
      "metadata": {
        "colab": {
          "base_uri": "https://localhost:8080/",
          "height": 430
        },
        "id": "_KV285YP8mJJ",
        "outputId": "42f34827-d56d-4b45-85af-2ef804aa36ad"
      },
      "execution_count": null,
      "outputs": [
        {
          "output_type": "display_data",
          "data": {
            "text/plain": [
              "<Figure size 640x480 with 1 Axes>"
            ],
            "image/png": "[encoded data removed]"
          },
          "metadata": {}
        }
      ]
    },
    {
      "cell_type": "markdown",
      "source": [
        "4.3.3"
      ],
      "metadata": {
        "id": "BsIJE8thCQIe"
      }
    },
    {
      "cell_type": "code",
      "source": [
        "from scipy.integrate import simps\n",
        "from numpy import trapz\n",
        "\n",
        "x = np.arange(0, 10, 1)\n",
        "y = np.abs(np.cos(x*np.e**(np.cos(x)+np.log(x+1))))\n",
        "plt.grid()\n",
        "plt.plot(x, y, c = \"r\")\n",
        "plt.fill_between(x,y)\n",
        "plt.show()\n",
        "area =trapz(y)\n",
        "print(area)"
      ],
      "metadata": {
        "colab": {
          "base_uri": "https://localhost:8080/",
          "height": 447
        },
        "id": "1BSwMgMuCSIk",
        "outputId": "f637780c-6689-4260-b479-16994df259f0"
      },
      "execution_count": null,
      "outputs": [
        {
          "output_type": "display_data",
          "data": {
            "text/plain": [
              "<Figure size 640x480 with 1 Axes>"
            ],
            "image/png": "[encoded data removed]"
          },
          "metadata": {}
        },
        {
          "output_type": "stream",
          "name": "stdout",
          "text": [
            "6.260345875494736\n"
          ]
        }
      ]
    },
    {
      "cell_type": "markdown",
      "source": [
        "4.3.4"
      ],
      "metadata": {
        "id": "voPkQJQAF9HD"
      }
    },
    {
      "cell_type": "code",
      "source": [
        "Apple = [133.52, 133.75, 123.75, 123.66, 132.04, 125.08, 136.60, 146.36, 152.83, 141.90, 148.99, 167.48]\n",
        "Microsoft = [222.53, 235.06, 235.90, 238.47, 238.47, 251.23, 269.61, 286.36, 302.87, 282.12, 331.36, 335.13]\n",
        "Google = [87.88, 92.68, 102.83, 104.90, 120.14, 121.10, 124.85, 135.48, 145.65, 133.55, 148.16, 144.21]\n",
        "x = [\"Jan\", \"Feb\", \"Mar\", \"Apr\", \"May\", \"Jun\", \"Jul\", \"Aug\", \"Sep\", \"Oct\", \"Nov\", \"Dec\"]\n",
        "\n",
        "plt.plot(x, Apple, c = \"r\")\n",
        "plt.plot(x, Microsoft, c = \"g\")\n",
        "plt.plot(x, Google, c = \"b\")\n",
        "plt.grid()\n",
        "plt.show()"
      ],
      "metadata": {
        "colab": {
          "base_uri": "https://localhost:8080/",
          "height": 430
        },
        "id": "RJgTvZETF-r8",
        "outputId": "fc6f3216-0e3b-4e3c-c0da-1fbe4cc4033c"
      },
      "execution_count": null,
      "outputs": [
        {
          "output_type": "display_data",
          "data": {
            "text/plain": [
              "<Figure size 640x480 with 1 Axes>"
            ],
            "image/png": "[encoded data removed]"
          },
          "metadata": {}
        }
      ]
    },
    {
      "cell_type": "markdown",
      "source": [
        "4.3.5"
      ],
      "metadata": {
        "id": "-hlKw1YXIlka"
      }
    },
    {
      "cell_type": "code",
      "source": [
        "def calculator(x, y, operation):\n",
        "    if operation == '+':\n",
        "        return x + y\n",
        "    elif operation == '-':\n",
        "        return x - y\n",
        "    elif operation == '*':\n",
        "        return x * y\n",
        "    elif operation == '/':\n",
        "        if y != 0:\n",
        "            return x / y\n",
        "        else:\n",
        "            return \"Ошибка: деление на ноль\"\n",
        "    elif operation == 'exp':\n",
        "        return m.exp(x + y)\n",
        "    elif operation == 'sin':\n",
        "        return m.sin(x + y)\n",
        "    elif operation == 'cos':\n",
        "        return m.cos(x + y)\n",
        "    elif operation == 'pow':\n",
        "        return x ** y\n",
        "    else:\n",
        "        return \"Неизвестная операция\"\n",
        "\n",
        "x = float(input(\"Введите x: \"))\n",
        "y = float(input(\"Введите y: \"))\n",
        "operation = input(\"Введите операцию (+, -, *, /, exp, sin, cos, pow): \")\n",
        "\n",
        "result = calculator(x, y, operation)\n",
        "print(\"Результат:\", result)"
      ],
      "metadata": {
        "colab": {
          "base_uri": "https://localhost:8080/"
        },
        "id": "kVJAl93oImoY",
        "outputId": "562e9432-26c2-4192-c872-706133d9ba9a"
      },
      "execution_count": null,
      "outputs": [
        {
          "output_type": "stream",
          "name": "stdout",
          "text": [
            "Введите x: 5\n",
            "Введите y: 6\n",
            "Введите операцию (+, -, *, /, exp, sin, cos, pow): +\n",
            "Результат: 11.0\n"
          ]
        }
      ]
    }
  ]
}