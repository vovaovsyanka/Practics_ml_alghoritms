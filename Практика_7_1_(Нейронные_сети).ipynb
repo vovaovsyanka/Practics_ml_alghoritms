{
  "cells": [
    {
      "cell_type": "markdown",
      "metadata": {
        "id": "D3vwlXTbuX71"
      },
      "source": [
        "Реализовать классы нейросетей по аналогии с классом OurNeuralNetwork.\n",
        "Данные нейросети:\n",
        "− три входа (𝑥1, 𝑥2, 𝑥3);\n",
        "− три нейрона в скрытых слоях (ℎ1, ℎ2, ℎ3);\n",
        "− выход (𝑜1).\n",
        "Нейроны имеют идентичные веса и пороги:\n",
        "− 𝑤 = [0.5, 0.5, 0.5]\n",
        "− 𝑏 = 0\n",
        "Данные нейросети:\n",
        "− два входа (𝑥1, 𝑥2);\n",
        "− два нейрона в скрытых слоях (ℎ1, ℎ2);\n",
        "− два выхода (𝑜1, 𝑜2).\n",
        "Нейроны имеют идентичные веса и пороги:\n",
        "− 𝑤 = [1, 0];\n",
        "− 𝑏 = 1."
      ]
    },
    {
      "cell_type": "code",
      "execution_count": null,
      "metadata": {
        "id": "4jwjs-U_uX72"
      },
      "outputs": [],
      "source": [
        "import numpy as np\n",
        "\n",
        "def sigmoid(x):\n",
        "    return 1/(1 + np.exp(-x))\n",
        "\n",
        "class Neuron:\n",
        "    def __init__(self, weights, bias):\n",
        "        self.weights = weights\n",
        "        self.bias = bias\n",
        "\n",
        "    def feedforward(self, inputs):\n",
        "        total = np.dot(self.weights, inputs) + self.bias\n",
        "        return sigmoid(total)\n",
        "\n",
        "\n",
        "class NeuralNetwork1:\n",
        "    def __init__(self):\n",
        "        weights = np.array ([0.5, 0.5, 0.5])\n",
        "        bias = 0\n",
        "        self.h1 = Neuron(weights, bias)\n",
        "        self.h2 = Neuron(weights, bias)\n",
        "        self.h3 = Neuron(weights, bias)\n",
        "        self.o1 = Neuron(weights, bias)\n",
        "\n",
        "    def feedforward(self, x):\n",
        "        out_h1 = self.h1.feedforward(x)\n",
        "        out_h2 = self.h2.feedforward(x)\n",
        "        out_h3 = self.h3.feedforward(x)\n",
        "\n",
        "        out_o1 = self.o1.feedforward(np.array([out_h1, out_h2, out_h3]))\n",
        "        return out_o1\n",
        "\n",
        "\n",
        "class NeuralNetwork2:\n",
        "    def __init__(self):\n",
        "        weights = np.array ([1, 0])\n",
        "        bias = 1\n",
        "        self.h1 = Neuron(weights, bias)\n",
        "        self.h2 = Neuron(weights, bias)\n",
        "        self.o1 = Neuron(weights, bias)\n",
        "        self.o2 = Neuron(weights, bias)\n",
        "\n",
        "    def feedforward(self, x):\n",
        "        out_h1 = self.h1.feedforward(x)\n",
        "        out_h2 = self.h2.feedforward(x)\n",
        "\n",
        "        out_o1 = self.o1.feedforward(np.array([out_h1, out_h2]))\n",
        "        out_o2 = self.o2.feedforward(np.array([out_h1, out_h2]))\n",
        "        return (out_o1, out_o2)"
      ]
    },
    {
      "cell_type": "code",
      "execution_count": null,
      "metadata": {
        "colab": {
          "base_uri": "https://localhost:8080/"
        },
        "id": "Ka_iDMFOuX73",
        "outputId": "11ebe48c-f6cb-4025-ef4c-b9804a28dfc8"
      },
      "outputs": [
        {
          "output_type": "stream",
          "name": "stdout",
          "text": [
            "0.8067238139969796\n",
            "(0.8677026536525567, 0.8677026536525567)\n"
          ]
        }
      ],
      "source": [
        "nn1 = NeuralNetwork1()\n",
        "nn2 = NeuralNetwork2()\n",
        "\n",
        "print(nn1.feedforward([1, 2, 3]))\n",
        "print(nn2.feedforward([1, 2]))"
      ]
    },
    {
      "cell_type": "markdown",
      "metadata": {
        "id": "ybrR3Io7uX73"
      },
      "source": [
        "Реализуйте классы нейронных сетей с использованием других функций\n",
        "активации.\n",
        "\n",
        "![image.png](attachment:image.png)"
      ]
    },
    {
      "cell_type": "code",
      "execution_count": null,
      "metadata": {
        "id": "nhwGUtwouX74"
      },
      "outputs": [],
      "source": [
        "import numpy as np\n",
        "\n",
        "def sigmoid(x):\n",
        "    return 1/(1 + np.exp(-x))\n",
        "\n",
        "def tanh(x):\n",
        "    return np.tanh(x)\n",
        "\n",
        "def ReLU(x):\n",
        "    return max(0, x)"
      ]
    },
    {
      "cell_type": "code",
      "execution_count": null,
      "metadata": {
        "id": "d7O8wSVkuX74"
      },
      "outputs": [],
      "source": [
        "import numpy as np\n",
        "\n",
        "\n",
        "class Neuron1:\n",
        "    def __init__(self, weights, bias):\n",
        "        self.weights = weights\n",
        "        self.bias = bias\n",
        "\n",
        "    def feedforward(self, inputs):\n",
        "        total = np.dot(self.weights, inputs) + self.bias\n",
        "        return tanh(total)\n",
        "\n",
        "class Neuron2:\n",
        "    def __init__(self, weights, bias):\n",
        "        self.weights = weights\n",
        "        self.bias = bias\n",
        "\n",
        "    def feedforward(self, inputs):\n",
        "        total = np.dot(self.weights, inputs) + self.bias\n",
        "        return ReLU(total)\n",
        "\n",
        "\n",
        "class NeuralNetwork1:\n",
        "    def __init__(self):\n",
        "        weights = np.array ([0.5, 0.5, 0.5])\n",
        "        bias = 0\n",
        "        self.h1 = Neuron1(weights, bias)\n",
        "        self.h2 = Neuron1(weights, bias)\n",
        "        self.h3 = Neuron1(weights, bias)\n",
        "        self.o1 = Neuron1(weights, bias)\n",
        "\n",
        "    def feedforward(self, x):\n",
        "        out_h1 = self.h1.feedforward(x)\n",
        "        out_h2 = self.h2.feedforward(x)\n",
        "        out_h3 = self.h3.feedforward(x)\n",
        "\n",
        "        out_o1 = self.o1.feedforward(np.array([out_h1, out_h2, out_h3]))\n",
        "        return out_o1\n",
        "\n",
        "\n",
        "class NeuralNetwork2:\n",
        "    def __init__(self):\n",
        "        weights = np.array ([1, 0])\n",
        "        bias = 1\n",
        "        self.h1 = Neuron2(weights, bias)\n",
        "        self.h2 = Neuron2(weights, bias)\n",
        "        self.o1 = Neuron2(weights, bias)\n",
        "        self.o2 = Neuron2(weights, bias)\n",
        "\n",
        "    def feedforward(self, x):\n",
        "        out_h1 = self.h1.feedforward(x)\n",
        "        out_h2 = self.h2.feedforward(x)\n",
        "\n",
        "        out_o1 = self.o1.feedforward(np.array([out_h1, out_h2]))\n",
        "        out_o2 = self.o2.feedforward(np.array([out_h1, out_h2]))\n",
        "        return (out_o1, out_o2)"
      ]
    },
    {
      "cell_type": "code",
      "execution_count": null,
      "metadata": {
        "colab": {
          "base_uri": "https://localhost:8080/"
        },
        "id": "6O4BY6rvuX75",
        "outputId": "970a1da0-50db-46c1-ff83-95860ba353d8"
      },
      "outputs": [
        {
          "output_type": "stream",
          "name": "stdout",
          "text": [
            "0.903798759264991\n",
            "(3, 3)\n"
          ]
        }
      ],
      "source": [
        "nn1 = NeuralNetwork1()\n",
        "nn2 = NeuralNetwork2()\n",
        "\n",
        "print(nn1.feedforward([1, 2, 3]))\n",
        "print(nn2.feedforward([1, 2]))"
      ]
    },
    {
      "cell_type": "markdown",
      "metadata": {
        "id": "AIOJj34ruX75"
      },
      "source": [
        "Используйте классы MLPClassified и MLPRegressor для классификации и\n",
        "регрессии произвольных данных из интернета. Проведите анализ\n",
        "атрибуты, полученных моделей.\n",
        "Для классификации можете взять набор данных Ирисов:\n",
        "https://gist.githubusercontent.com/netj/8836201/raw/6f9306ad21398ea43cba4f7d537619d0e07d5ae3/iris.csv\n",
        "а для регрессии датасет зависимости заработной платы от опыта работы:\n",
        "https://raw.githubusercontent.com/AnnaShestova/salary-years-simple-linearregression/master/Salary_Data.csv"
      ]
    },
    {
      "cell_type": "code",
      "execution_count": null,
      "metadata": {
        "id": "7zaJ4Q0JuX75"
      },
      "outputs": [],
      "source": [
        "import numpy as пр\n",
        "import pandas as pd\n",
        "import matplotlib.pyplot as plt\n",
        "from sklearn.model_selection import train_test_split\n",
        "from sklearn.neural_network import MLPClassifier\n",
        "from sklearn.neural_network import MLPRegressor"
      ]
    },
    {
      "cell_type": "code",
      "execution_count": null,
      "metadata": {
        "colab": {
          "base_uri": "https://localhost:8080/"
        },
        "id": "Ek7SKLXAuX76",
        "outputId": "cd0cdd5f-80fb-4bb8-a3e6-a9175bd881e0"
      },
      "outputs": [
        {
          "output_type": "stream",
          "name": "stdout",
          "text": [
            "(120, 4) (30, 4) (120,) (30,)\n"
          ]
        }
      ],
      "source": [
        "data = pd.read_csv(\"https://gist.githubusercontent.com/netj/8836201/raw/6f9306ad21398ea43cba4f7d537619d0e07d5ae3/iris.csv\")\n",
        "\n",
        "x = data.iloc[:, :-1].values\n",
        "y = data.iloc[:, -1]\n",
        "\n",
        "x_train, x_test, y_train, y_test = train_test_split(x, y, test_size=0.2, random_state=0)\n",
        "print(x_train.shape, x_test.shape, y_train.shape, y_test.shape)"
      ]
    },
    {
      "cell_type": "code",
      "execution_count": null,
      "metadata": {
        "colab": {
          "base_uri": "https://localhost:8080/"
        },
        "id": "LYxO4q8guX76",
        "outputId": "e9fa4a13-66e0-48b1-df1b-8a768fa7e469"
      },
      "outputs": [
        {
          "output_type": "stream",
          "name": "stdout",
          "text": [
            "0.95\n",
            "1.0\n"
          ]
        },
        {
          "output_type": "stream",
          "name": "stderr",
          "text": [
            "/usr/local/lib/python3.10/dist-packages/sklearn/neural_network/_multilayer_perceptron.py:690: ConvergenceWarning: Stochastic Optimizer: Maximum iterations (200) reached and the optimization hasn't converged yet.\n",
            "  warnings.warn(\n"
          ]
        }
      ],
      "source": [
        "classifier = MLPClassifier()\n",
        "classifier.fit(x_train, y_train)\n",
        "y_pred = classifier.predict(x_test)\n",
        "\n",
        "print(classifier.score(x_train, y_train))\n",
        "print(classifier.score(x_test, y_test))"
      ]
    },
    {
      "cell_type": "code",
      "execution_count": null,
      "metadata": {
        "colab": {
          "base_uri": "https://localhost:8080/",
          "height": 278
        },
        "id": "Gq2K6FztuX76",
        "outputId": "10ef3d19-138b-4e71-ed7e-c360c5eaea0c"
      },
      "outputs": [
        {
          "output_type": "display_data",
          "data": {
            "text/plain": [
              "<Figure size 300x300 with 2 Axes>"
            ],
            "image/png": "[encoded data removed]"
          },
          "metadata": {}
        }
      ],
      "source": [
        "from sklearn.metrics import confusion_matrix\n",
        "\n",
        "\n",
        "def plot_confusion_matrix(Y_test, Y_preds):\n",
        "    l = len(set(Y_preds))\n",
        "    conf_mat = confusion_matrix(Y_test, Y_preds)\n",
        "    fig = plt.figure(figsize=(3,3))\n",
        "    plt.matshow(conf_mat, cmap=plt.cm.Blues, fignum=1)\n",
        "    plt.yticks(range(l), range(l))\n",
        "    plt.xticks(range(l), range(l))\n",
        "    plt.colorbar()\n",
        "    for i in range(l):\n",
        "        for j in range(l):\n",
        "            plt.text(i-0.2,j+0.1, \\\n",
        "                str(conf_mat[j, i]), color='tab:red')\n",
        "\n",
        "\n",
        "plot_confusion_matrix(y_test, y_pred)"
      ]
    },
    {
      "cell_type": "code",
      "execution_count": null,
      "metadata": {
        "colab": {
          "base_uri": "https://localhost:8080/"
        },
        "id": "T4y0e0pyuX76",
        "outputId": "13b96834-a4af-4d8a-cf8d-bdf8a1cb979e"
      },
      "outputs": [
        {
          "output_type": "stream",
          "name": "stdout",
          "text": [
            "Loss 0.30929405809136556\n",
            "Number of Coefs 2\n",
            "Number of Intercepts 2\n",
            "Number of Iterations for Which Estimator Ran 200\n",
            "Name of Output Layer Activation Function softmax\n"
          ]
        }
      ],
      "source": [
        "print(\"Loss\", classifier.loss_)\n",
        "print(\"Number of Coefs\", len(classifier.coefs_))\n",
        "print(\"Number of Intercepts\", len(classifier.intercepts_))\n",
        "print(\"Number of Iterations for Which Estimator Ran\", classifier.n_iter_)\n",
        "print(\"Name of Output Layer Activation Function\", classifier.out_activation_)"
      ]
    },
    {
      "cell_type": "code",
      "execution_count": null,
      "metadata": {
        "id": "UHKgVrMEuX77"
      },
      "outputs": [],
      "source": [
        "data = pd.read_csv(\"https://raw.githubusercontent.com/AnnaShestova/salary-years-simple-linear-regression/master/Salary_Data.csv\")\n",
        "\n",
        "x = data.iloc[:, :-1].values\n",
        "y = data.iloc[:, -1].values\n",
        "\n",
        "x_train, x_test, y_train, y_test = train_test_split(x, y, test_size=0.2)\n",
        "# print(x_train[:10])\n",
        "# print()\n",
        "# print(x_test[:10])\n",
        "# print()\n",
        "# print(y_train[:10])\n",
        "# print()\n",
        "# print(y_test[:10])"
      ]
    },
    {
      "cell_type": "code",
      "execution_count": null,
      "metadata": {
        "colab": {
          "base_uri": "https://localhost:8080/"
        },
        "id": "g05NzyrEuX77",
        "outputId": "e1d4473e-9517-4c81-80fc-38fe8e279019"
      },
      "outputs": [
        {
          "output_type": "stream",
          "name": "stdout",
          "text": [
            "[ 57634.16502382  28991.34903367  72528.4293387   79402.70517634\n",
            "  57634.16502382 102316.95796846]\n",
            "0.8927525878944308\n",
            "0.9269425902301025\n"
          ]
        },
        {
          "output_type": "stream",
          "name": "stderr",
          "text": [
            "/usr/local/lib/python3.10/dist-packages/sklearn/neural_network/_multilayer_perceptron.py:690: ConvergenceWarning: Stochastic Optimizer: Maximum iterations (1000) reached and the optimization hasn't converged yet.\n",
            "  warnings.warn(\n"
          ]
        }
      ],
      "source": [
        "regressor = MLPRegressor(hidden_layer_sizes=(200, 100), max_iter=1000)\n",
        "regressor.fit(x_train, y_train)\n",
        "y_pred = regressor.predict(x_test)\n",
        "\n",
        "print(y_pred)\n",
        "\n",
        "print(regressor.score(x_train, y_train))\n",
        "print(regressor.score(x_test, y_test))"
      ]
    },
    {
      "cell_type": "code",
      "execution_count": null,
      "metadata": {
        "colab": {
          "base_uri": "https://localhost:8080/"
        },
        "id": "NvnvFUh_uX77",
        "outputId": "d57667ac-0c75-4683-e1e3-4196df181da9"
      },
      "outputs": [
        {
          "output_type": "stream",
          "name": "stdout",
          "text": [
            "Loss 41957066.632026404\n",
            "Number of Coefs 3\n",
            "Number of Intercepts 3\n",
            "Number of Iterations for Which Estimator Ran 1000\n",
            "Name of Output Layer Activation Function identity\n"
          ]
        }
      ],
      "source": [
        "print(\"Loss\", regressor.loss_)\n",
        "print(\"Number of Coefs\", len(regressor.coefs_))\n",
        "print(\"Number of Intercepts\", len(regressor.intercepts_))\n",
        "print(\"Number of Iterations for Which Estimator Ran\", regressor.n_iter_)\n",
        "print(\"Name of Output Layer Activation Function\", regressor.out_activation_)"
      ]
    },
    {
      "cell_type": "code",
      "execution_count": null,
      "metadata": {
        "colab": {
          "base_uri": "https://localhost:8080/",
          "height": 430
        },
        "id": "7PDprroquX77",
        "outputId": "257ccfae-bddd-4c41-af8f-23bad57ba322"
      },
      "outputs": [
        {
          "output_type": "display_data",
          "data": {
            "text/plain": [
              "<Figure size 640x480 with 1 Axes>"
            ],
            "image/png": "[encoded data removed]"
          },
          "metadata": {}
        }
      ],
      "source": [
        "plt.figure()\n",
        "plt.scatter(x, y)\n",
        "plt.scatter(x_test, y_pred, c='r')\n",
        "plt.show()"
      ]
    }
  ],
  "metadata": {
    "kernelspec": {
      "display_name": "Python 3",
      "language": "python",
      "name": "python3"
    },
    "language_info": {
      "codemirror_mode": {
        "name": "ipython",
        "version": 3
      },
      "file_extension": ".py",
      "mimetype": "text/x-python",
      "name": "python",
      "nbconvert_exporter": "python",
      "pygments_lexer": "ipython3",
      "version": "3.11.9"
    },
    "colab": {
      "provenance": []
    }
  },
  "nbformat": 4,
  "nbformat_minor": 0
}