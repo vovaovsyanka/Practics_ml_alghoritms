{
  "cells": [
    {
      "cell_type": "code",
      "execution_count": null,
      "metadata": {
        "colab": {
          "base_uri": "https://localhost:8080/"
        },
        "id": "bkJVgGPZ4g9S",
        "outputId": "72fc993c-dad8-4544-c835-5dc8be68f99e"
      },
      "outputs": [
        {
          "output_type": "stream",
          "name": "stdout",
          "text": [
            "Requirement already satisfied: keras in /usr/local/lib/python3.10/dist-packages (3.5.0)\n",
            "Requirement already satisfied: tensorflow in /usr/local/lib/python3.10/dist-packages (2.17.1)\n",
            "Requirement already satisfied: absl-py in /usr/local/lib/python3.10/dist-packages (from keras) (1.4.0)\n",
            "Requirement already satisfied: numpy in /usr/local/lib/python3.10/dist-packages (from keras) (1.26.4)\n",
            "Requirement already satisfied: rich in /usr/local/lib/python3.10/dist-packages (from keras) (13.9.4)\n",
            "Requirement already satisfied: namex in /usr/local/lib/python3.10/dist-packages (from keras) (0.0.8)\n",
            "Requirement already satisfied: h5py in /usr/local/lib/python3.10/dist-packages (from keras) (3.12.1)\n",
            "Requirement already satisfied: optree in /usr/local/lib/python3.10/dist-packages (from keras) (0.13.1)\n",
            "Requirement already satisfied: ml-dtypes in /usr/local/lib/python3.10/dist-packages (from keras) (0.4.1)\n",
            "Requirement already satisfied: packaging in /usr/local/lib/python3.10/dist-packages (from keras) (24.2)\n",
            "Requirement already satisfied: astunparse>=1.6.0 in /usr/local/lib/python3.10/dist-packages (from tensorflow) (1.6.3)\n",
            "Requirement already satisfied: flatbuffers>=24.3.25 in /usr/local/lib/python3.10/dist-packages (from tensorflow) (24.3.25)\n",
            "Requirement already satisfied: gast!=0.5.0,!=0.5.1,!=0.5.2,>=0.2.1 in /usr/local/lib/python3.10/dist-packages (from tensorflow) (0.6.0)\n",
            "Requirement already satisfied: google-pasta>=0.1.1 in /usr/local/lib/python3.10/dist-packages (from tensorflow) (0.2.0)\n",
            "Requirement already satisfied: libclang>=13.0.0 in /usr/local/lib/python3.10/dist-packages (from tensorflow) (18.1.1)\n",
            "Requirement already satisfied: opt-einsum>=2.3.2 in /usr/local/lib/python3.10/dist-packages (from tensorflow) (3.4.0)\n",
            "Requirement already satisfied: protobuf!=4.21.0,!=4.21.1,!=4.21.2,!=4.21.3,!=4.21.4,!=4.21.5,<5.0.0dev,>=3.20.3 in /usr/local/lib/python3.10/dist-packages (from tensorflow) (4.25.5)\n",
            "Requirement already satisfied: requests<3,>=2.21.0 in /usr/local/lib/python3.10/dist-packages (from tensorflow) (2.32.3)\n",
            "Requirement already satisfied: setuptools in /usr/local/lib/python3.10/dist-packages (from tensorflow) (75.1.0)\n",
            "Requirement already satisfied: six>=1.12.0 in /usr/local/lib/python3.10/dist-packages (from tensorflow) (1.17.0)\n",
            "Requirement already satisfied: termcolor>=1.1.0 in /usr/local/lib/python3.10/dist-packages (from tensorflow) (2.5.0)\n",
            "Requirement already satisfied: typing-extensions>=3.6.6 in /usr/local/lib/python3.10/dist-packages (from tensorflow) (4.12.2)\n",
            "Requirement already satisfied: wrapt>=1.11.0 in /usr/local/lib/python3.10/dist-packages (from tensorflow) (1.17.0)\n",
            "Requirement already satisfied: grpcio<2.0,>=1.24.3 in /usr/local/lib/python3.10/dist-packages (from tensorflow) (1.68.1)\n",
            "Requirement already satisfied: tensorboard<2.18,>=2.17 in /usr/local/lib/python3.10/dist-packages (from tensorflow) (2.17.1)\n",
            "Requirement already satisfied: tensorflow-io-gcs-filesystem>=0.23.1 in /usr/local/lib/python3.10/dist-packages (from tensorflow) (0.37.1)\n",
            "Requirement already satisfied: wheel<1.0,>=0.23.0 in /usr/local/lib/python3.10/dist-packages (from astunparse>=1.6.0->tensorflow) (0.45.1)\n",
            "Requirement already satisfied: charset-normalizer<4,>=2 in /usr/local/lib/python3.10/dist-packages (from requests<3,>=2.21.0->tensorflow) (3.4.0)\n",
            "Requirement already satisfied: idna<4,>=2.5 in /usr/local/lib/python3.10/dist-packages (from requests<3,>=2.21.0->tensorflow) (3.10)\n",
            "Requirement already satisfied: urllib3<3,>=1.21.1 in /usr/local/lib/python3.10/dist-packages (from requests<3,>=2.21.0->tensorflow) (2.2.3)\n",
            "Requirement already satisfied: certifi>=2017.4.17 in /usr/local/lib/python3.10/dist-packages (from requests<3,>=2.21.0->tensorflow) (2024.8.30)\n",
            "Requirement already satisfied: markdown>=2.6.8 in /usr/local/lib/python3.10/dist-packages (from tensorboard<2.18,>=2.17->tensorflow) (3.7)\n",
            "Requirement already satisfied: tensorboard-data-server<0.8.0,>=0.7.0 in /usr/local/lib/python3.10/dist-packages (from tensorboard<2.18,>=2.17->tensorflow) (0.7.2)\n",
            "Requirement already satisfied: werkzeug>=1.0.1 in /usr/local/lib/python3.10/dist-packages (from tensorboard<2.18,>=2.17->tensorflow) (3.1.3)\n",
            "Requirement already satisfied: markdown-it-py>=2.2.0 in /usr/local/lib/python3.10/dist-packages (from rich->keras) (3.0.0)\n",
            "Requirement already satisfied: pygments<3.0.0,>=2.13.0 in /usr/local/lib/python3.10/dist-packages (from rich->keras) (2.18.0)\n",
            "Requirement already satisfied: mdurl~=0.1 in /usr/local/lib/python3.10/dist-packages (from markdown-it-py>=2.2.0->rich->keras) (0.1.2)\n",
            "Requirement already satisfied: MarkupSafe>=2.1.1 in /usr/local/lib/python3.10/dist-packages (from werkzeug>=1.0.1->tensorboard<2.18,>=2.17->tensorflow) (3.0.2)\n"
          ]
        }
      ],
      "source": [
        "pip install keras tensorflow"
      ]
    },
    {
      "cell_type": "markdown",
      "metadata": {
        "id": "ckzoEh2co5qf"
      },
      "source": [
        "1. Изучите и выполните пример 1 на Jupyter Notebook или Colab..\n",
        "2. Поэкспериментируйте с новыми параметрами:\n",
        "- Перый слой содержит 128 нейронов с активацией tanh\n",
        "- Второй слой – один нейрон с активацией softmax\n",
        "- Изменить оптимизатор на rmsprop"
      ]
    },
    {
      "cell_type": "markdown",
      "source": [
        "![image.png](data:image/png;base64,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)"
      ],
      "metadata": {
        "id": "Bs0dWahd0LPj"
      }
    },
    {
      "cell_type": "code",
      "execution_count": null,
      "metadata": {
        "id": "iAY15Jw14MP2"
      },
      "outputs": [],
      "source": [
        "import numpy as np\n",
        "from keras.models import Sequential\n",
        "from keras.layers import Dense"
      ]
    },
    {
      "cell_type": "code",
      "execution_count": null,
      "metadata": {
        "id": "vwQTlkfN9FKx"
      },
      "outputs": [],
      "source": [
        "X = np. random. rand(1000, 20)\n",
        "y = np.random.randint(2, size=(1000, 1))"
      ]
    },
    {
      "cell_type": "code",
      "execution_count": null,
      "metadata": {
        "colab": {
          "base_uri": "https://localhost:8080/"
        },
        "id": "ewmM_-qO43rG",
        "outputId": "88fabd5b-0e97-46b7-ec7c-29f75d746a3c"
      },
      "outputs": [
        {
          "output_type": "stream",
          "name": "stdout",
          "text": [
            "Epoch 1/10\n"
          ]
        },
        {
          "output_type": "stream",
          "name": "stderr",
          "text": [
            "/usr/local/lib/python3.10/dist-packages/keras/src/layers/core/dense.py:87: UserWarning: Do not pass an `input_shape`/`input_dim` argument to a layer. When using Sequential models, prefer using an `Input(shape)` object as the first layer in the model instead.\n",
            "  super().__init__(activity_regularizer=activity_regularizer, **kwargs)\n"
          ]
        },
        {
          "output_type": "stream",
          "name": "stdout",
          "text": [
            "\u001b[1m32/32\u001b[0m \u001b[32m━━━━━━━━━━━━━━━━━━━━\u001b[0m\u001b[37m\u001b[0m \u001b[1m2s\u001b[0m 3ms/step - accuracy: 0.4820 - loss: 0.7387\n",
            "Epoch 2/10\n",
            "\u001b[1m32/32\u001b[0m \u001b[32m━━━━━━━━━━━━━━━━━━━━\u001b[0m\u001b[37m\u001b[0m \u001b[1m0s\u001b[0m 2ms/step - accuracy: 0.5128 - loss: 0.6927\n",
            "Epoch 3/10\n",
            "\u001b[1m32/32\u001b[0m \u001b[32m━━━━━━━━━━━━━━━━━━━━\u001b[0m\u001b[37m\u001b[0m \u001b[1m0s\u001b[0m 1ms/step - accuracy: 0.5148 - loss: 0.6898 \n",
            "Epoch 4/10\n",
            "\u001b[1m32/32\u001b[0m \u001b[32m━━━━━━━━━━━━━━━━━━━━\u001b[0m\u001b[37m\u001b[0m \u001b[1m0s\u001b[0m 1ms/step - accuracy: 0.5269 - loss: 0.6884 \n",
            "Epoch 5/10\n",
            "\u001b[1m32/32\u001b[0m \u001b[32m━━━━━━━━━━━━━━━━━━━━\u001b[0m\u001b[37m\u001b[0m \u001b[1m0s\u001b[0m 1ms/step - accuracy: 0.5488 - loss: 0.6821 \n",
            "Epoch 6/10\n",
            "\u001b[1m32/32\u001b[0m \u001b[32m━━━━━━━━━━━━━━━━━━━━\u001b[0m\u001b[37m\u001b[0m \u001b[1m0s\u001b[0m 2ms/step - accuracy: 0.5280 - loss: 0.6857\n",
            "Epoch 7/10\n",
            "\u001b[1m32/32\u001b[0m \u001b[32m━━━━━━━━━━━━━━━━━━━━\u001b[0m\u001b[37m\u001b[0m \u001b[1m0s\u001b[0m 2ms/step - accuracy: 0.5481 - loss: 0.6844\n",
            "Epoch 8/10\n",
            "\u001b[1m32/32\u001b[0m \u001b[32m━━━━━━━━━━━━━━━━━━━━\u001b[0m\u001b[37m\u001b[0m \u001b[1m0s\u001b[0m 2ms/step - accuracy: 0.5782 - loss: 0.6784 \n",
            "Epoch 9/10\n",
            "\u001b[1m32/32\u001b[0m \u001b[32m━━━━━━━━━━━━━━━━━━━━\u001b[0m\u001b[37m\u001b[0m \u001b[1m0s\u001b[0m 1ms/step - accuracy: 0.5594 - loss: 0.6766 \n",
            "Epoch 10/10\n",
            "\u001b[1m32/32\u001b[0m \u001b[32m━━━━━━━━━━━━━━━━━━━━\u001b[0m\u001b[37m\u001b[0m \u001b[1m0s\u001b[0m 1ms/step - accuracy: 0.5546 - loss: 0.6758 \n",
            "\u001b[1m32/32\u001b[0m \u001b[32m━━━━━━━━━━━━━━━━━━━━\u001b[0m\u001b[37m\u001b[0m \u001b[1m0s\u001b[0m 1ms/step - accuracy: 0.6094 - loss: 0.6720  \n",
            "Loss: 0.6742569208145142, Accuracy: 0.5839999914169312\n"
          ]
        }
      ],
      "source": [
        "model = Sequential()\n",
        "model.add(Dense(64, input_dim=20, activation=\"relu\"))\n",
        "model.add(Dense(1, activation=\"sigmoid\"))\n",
        "\n",
        "model.compile(loss=\"binary_crossentropy\", optimizer='adam', metrics=['accuracy'])\n",
        "\n",
        "model.fit(X, y, epochs=10)\n",
        "\n",
        "loss, accuracy = model.evaluate(X, y)\n",
        "print(f'Loss: {loss}, Accuracy: {accuracy}')"
      ]
    },
    {
      "cell_type": "code",
      "execution_count": null,
      "metadata": {
        "colab": {
          "base_uri": "https://localhost:8080/"
        },
        "id": "Lh1Ay4Ef8_Pp",
        "outputId": "4d29cf8a-1976-4f81-e434-503b66aec871"
      },
      "outputs": [
        {
          "output_type": "stream",
          "name": "stdout",
          "text": [
            "Epoch 1/10\n"
          ]
        },
        {
          "output_type": "stream",
          "name": "stderr",
          "text": [
            "/usr/local/lib/python3.10/dist-packages/keras/src/ops/nn.py:545: UserWarning: You are using a softmax over axis -1 of a tensor of shape (None, 1). This axis has size 1. The softmax operation will always return the value 1, which is likely not what you intended. Did you mean to use a sigmoid instead?\n",
            "  warnings.warn(\n"
          ]
        },
        {
          "output_type": "stream",
          "name": "stdout",
          "text": [
            "\u001b[1m32/32\u001b[0m \u001b[32m━━━━━━━━━━━━━━━━━━━━\u001b[0m\u001b[37m\u001b[0m \u001b[1m1s\u001b[0m 3ms/step - accuracy: 0.5125 - loss: 0.6982\n",
            "Epoch 2/10\n",
            "\u001b[1m32/32\u001b[0m \u001b[32m━━━━━━━━━━━━━━━━━━━━\u001b[0m\u001b[37m\u001b[0m \u001b[1m0s\u001b[0m 2ms/step - accuracy: 0.5125 - loss: 0.6895\n",
            "Epoch 3/10\n",
            "\u001b[1m32/32\u001b[0m \u001b[32m━━━━━━━━━━━━━━━━━━━━\u001b[0m\u001b[37m\u001b[0m \u001b[1m0s\u001b[0m 2ms/step - accuracy: 0.5231 - loss: 0.6916\n",
            "Epoch 4/10\n",
            "\u001b[1m32/32\u001b[0m \u001b[32m━━━━━━━━━━━━━━━━━━━━\u001b[0m\u001b[37m\u001b[0m \u001b[1m0s\u001b[0m 2ms/step - accuracy: 0.5392 - loss: 0.6925\n",
            "Epoch 5/10\n",
            "\u001b[1m32/32\u001b[0m \u001b[32m━━━━━━━━━━━━━━━━━━━━\u001b[0m\u001b[37m\u001b[0m \u001b[1m0s\u001b[0m 2ms/step - accuracy: 0.5077 - loss: 0.6892\n",
            "Epoch 6/10\n",
            "\u001b[1m32/32\u001b[0m \u001b[32m━━━━━━━━━━━━━━━━━━━━\u001b[0m\u001b[37m\u001b[0m \u001b[1m0s\u001b[0m 2ms/step - accuracy: 0.5317 - loss: 0.6868\n",
            "Epoch 7/10\n",
            "\u001b[1m32/32\u001b[0m \u001b[32m━━━━━━━━━━━━━━━━━━━━\u001b[0m\u001b[37m\u001b[0m \u001b[1m0s\u001b[0m 2ms/step - accuracy: 0.4936 - loss: 0.6883\n",
            "Epoch 8/10\n",
            "\u001b[1m32/32\u001b[0m \u001b[32m━━━━━━━━━━━━━━━━━━━━\u001b[0m\u001b[37m\u001b[0m \u001b[1m0s\u001b[0m 2ms/step - accuracy: 0.5234 - loss: 0.6831\n",
            "Epoch 9/10\n",
            "\u001b[1m32/32\u001b[0m \u001b[32m━━━━━━━━━━━━━━━━━━━━\u001b[0m\u001b[37m\u001b[0m \u001b[1m0s\u001b[0m 3ms/step - accuracy: 0.4949 - loss: 0.6914\n",
            "Epoch 10/10\n",
            "\u001b[1m32/32\u001b[0m \u001b[32m━━━━━━━━━━━━━━━━━━━━\u001b[0m\u001b[37m\u001b[0m \u001b[1m0s\u001b[0m 3ms/step - accuracy: 0.5178 - loss: 0.6785\n",
            "\u001b[1m32/32\u001b[0m \u001b[32m━━━━━━━━━━━━━━━━━━━━\u001b[0m\u001b[37m\u001b[0m \u001b[1m0s\u001b[0m 2ms/step - accuracy: 0.5215 - loss: 0.6813\n",
            "Loss: 0.685684323310852, Accuracy: 0.5139999985694885\n"
          ]
        }
      ],
      "source": [
        "model = Sequential()\n",
        "model.add(Dense(128, input_dim=20, activation=\"tanh\"))\n",
        "model.add(Dense(1, activation=\"softmax\"))\n",
        "\n",
        "model.compile(loss=\"binary_crossentropy\", optimizer='rmsprop', metrics=['accuracy'])\n",
        "\n",
        "model.fit(X, y, epochs=10)\n",
        "\n",
        "loss, accuracy = model.evaluate(X, y)\n",
        "print(f'Loss: {loss}, Accuracy: {accuracy}')"
      ]
    },
    {
      "cell_type": "markdown",
      "metadata": {
        "id": "4oMYxbglpC6q"
      },
      "source": [
        "Изучите и выполните пример 2 на Jupyter Notebook или Colab. Измените\n",
        "параметры:\n",
        "- размер мини-выборки (batch_size) на 64\n",
        "- число эпох (epochs) на 20\n",
        "- Посмотрите новый результат точности на контрольном наборе и\n",
        "сравните с результатом примера 2.\n"
      ]
    },
    {
      "cell_type": "markdown",
      "source": [
        "![image.png](data:image/png;base64,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)"
      ],
      "metadata": {
        "id": "G38oEHNk0Shi"
      }
    },
    {
      "cell_type": "code",
      "execution_count": null,
      "metadata": {
        "id": "v3y1GL12S5wv",
        "colab": {
          "base_uri": "https://localhost:8080/"
        },
        "outputId": "d340235a-455c-4ec6-8351-82d9de034fb2"
      },
      "outputs": [
        {
          "output_type": "stream",
          "name": "stdout",
          "text": [
            "Downloading data from https://storage.googleapis.com/tensorflow/tf-keras-datasets/mnist.npz\n",
            "\u001b[1m11490434/11490434\u001b[0m \u001b[32m━━━━━━━━━━━━━━━━━━━━\u001b[0m\u001b[37m\u001b[0m \u001b[1m0s\u001b[0m 0us/step\n"
          ]
        }
      ],
      "source": [
        "from tensorflow.keras.datasets import mnist\n",
        "from tensorflow import keras\n",
        "from tensorflow.keras import layers\n",
        "\n",
        "(train_images, train_labels), (test_images, test_labels) = mnist.load_data()\n",
        "\n",
        "train_images = train_images.reshape((60000, 28 * 28))\n",
        "train_images = train_images.astype(\"float32\") / 255\n",
        "test_images = test_images.reshape((10000, 28 * 28))\n",
        "test_images = test_images.astype(\"float32\") / 255"
      ]
    },
    {
      "cell_type": "code",
      "execution_count": null,
      "metadata": {
        "id": "SxbGUmNvTffO"
      },
      "outputs": [],
      "source": [
        "model = keras.Sequential([\n",
        "    layers.Dense(512, activation='relu'),\n",
        "    layers.Dense(10, activation='softmax')\n",
        "])\n",
        "\n",
        "model.compile(optimizer='rmsprop', loss='sparse_categorical_crossentropy', metrics=['accuracy'])"
      ]
    },
    {
      "cell_type": "code",
      "execution_count": null,
      "metadata": {
        "colab": {
          "base_uri": "https://localhost:8080/"
        },
        "id": "ey6OLMXlYJZn",
        "outputId": "8042a781-673f-446e-f54c-0722fb643f8a"
      },
      "outputs": [
        {
          "name": "stdout",
          "output_type": "stream",
          "text": [
            "Epoch 1/5\n",
            "\u001b[1m469/469\u001b[0m \u001b[32m━━━━━━━━━━━━━━━━━━━━\u001b[0m\u001b[37m\u001b[0m \u001b[1m6s\u001b[0m 11ms/step - accuracy: 0.8765 - loss: 0.4398\n",
            "Epoch 2/5\n",
            "\u001b[1m469/469\u001b[0m \u001b[32m━━━━━━━━━━━━━━━━━━━━\u001b[0m\u001b[37m\u001b[0m \u001b[1m4s\u001b[0m 9ms/step - accuracy: 0.9667 - loss: 0.1150\n",
            "Epoch 3/5\n",
            "\u001b[1m469/469\u001b[0m \u001b[32m━━━━━━━━━━━━━━━━━━━━\u001b[0m\u001b[37m\u001b[0m \u001b[1m6s\u001b[0m 11ms/step - accuracy: 0.9793 - loss: 0.0702\n",
            "Epoch 4/5\n",
            "\u001b[1m469/469\u001b[0m \u001b[32m━━━━━━━━━━━━━━━━━━━━\u001b[0m\u001b[37m\u001b[0m \u001b[1m5s\u001b[0m 10ms/step - accuracy: 0.9840 - loss: 0.0534\n",
            "Epoch 5/5\n",
            "\u001b[1m469/469\u001b[0m \u001b[32m━━━━━━━━━━━━━━━━━━━━\u001b[0m\u001b[37m\u001b[0m \u001b[1m4s\u001b[0m 9ms/step - accuracy: 0.9895 - loss: 0.0372\n"
          ]
        },
        {
          "data": {
            "text/plain": [
              "<keras.src.callbacks.history.History at 0x79cae4d9fd00>"
            ]
          },
          "execution_count": 24,
          "metadata": {},
          "output_type": "execute_result"
        }
      ],
      "source": [
        "model.fit(train_images, train_labels, epochs=5, batch_size=128)"
      ]
    },
    {
      "cell_type": "code",
      "execution_count": null,
      "metadata": {
        "colab": {
          "base_uri": "https://localhost:8080/"
        },
        "id": "l1HZxcg3Y9gH",
        "outputId": "8acf8a45-ec8c-4adb-d73e-570af15ab202"
      },
      "outputs": [
        {
          "name": "stdout",
          "output_type": "stream",
          "text": [
            "\u001b[1m1/1\u001b[0m \u001b[32m━━━━━━━━━━━━━━━━━━━━\u001b[0m\u001b[37m\u001b[0m \u001b[1m0s\u001b[0m 24ms/step\n",
            "7\n",
            "0.99994785\n"
          ]
        }
      ],
      "source": [
        "prediction = model.predict(test_images[:10])\n",
        "\n",
        "print(prediction[0].argmax())\n",
        "print(prediction[0][7])"
      ]
    },
    {
      "cell_type": "code",
      "execution_count": null,
      "metadata": {
        "colab": {
          "base_uri": "https://localhost:8080/"
        },
        "id": "alTdokycZwlo",
        "outputId": "6da2128f-4bbf-4908-f383-9d5dccfac563"
      },
      "outputs": [
        {
          "name": "stdout",
          "output_type": "stream",
          "text": [
            "\u001b[1m313/313\u001b[0m \u001b[32m━━━━━━━━━━━━━━━━━━━━\u001b[0m\u001b[37m\u001b[0m \u001b[1m1s\u001b[0m 2ms/step - accuracy: 0.9776 - loss: 0.0739\n",
            "test_acc: 0.9811999797821045\n"
          ]
        }
      ],
      "source": [
        "test_loss, test_acc = model.evaluate(test_images, test_labels)\n",
        "print(f'test_acc: {test_acc}')"
      ]
    },
    {
      "cell_type": "code",
      "execution_count": null,
      "metadata": {
        "colab": {
          "base_uri": "https://localhost:8080/"
        },
        "id": "xSFTN2SYaOfo",
        "outputId": "e2ec8913-0745-4d95-ebd1-280d38482dc2"
      },
      "outputs": [
        {
          "name": "stdout",
          "output_type": "stream",
          "text": [
            "Epoch 1/20\n",
            "\u001b[1m938/938\u001b[0m \u001b[32m━━━━━━━━━━━━━━━━━━━━\u001b[0m\u001b[37m\u001b[0m \u001b[1m9s\u001b[0m 9ms/step - accuracy: 0.9904 - loss: 0.0323\n",
            "Epoch 2/20\n",
            "\u001b[1m938/938\u001b[0m \u001b[32m━━━━━━━━━━━━━━━━━━━━\u001b[0m\u001b[37m\u001b[0m \u001b[1m9s\u001b[0m 9ms/step - accuracy: 0.9927 - loss: 0.0243\n",
            "Epoch 3/20\n",
            "\u001b[1m938/938\u001b[0m \u001b[32m━━━━━━━━━━━━━━━━━━━━\u001b[0m\u001b[37m\u001b[0m \u001b[1m9s\u001b[0m 8ms/step - accuracy: 0.9934 - loss: 0.0201\n",
            "Epoch 4/20\n",
            "\u001b[1m938/938\u001b[0m \u001b[32m━━━━━━━━━━━━━━━━━━━━\u001b[0m\u001b[37m\u001b[0m \u001b[1m10s\u001b[0m 8ms/step - accuracy: 0.9955 - loss: 0.0146\n",
            "Epoch 5/20\n",
            "\u001b[1m938/938\u001b[0m \u001b[32m━━━━━━━━━━━━━━━━━━━━\u001b[0m\u001b[37m\u001b[0m \u001b[1m7s\u001b[0m 7ms/step - accuracy: 0.9968 - loss: 0.0117\n",
            "Epoch 6/20\n",
            "\u001b[1m938/938\u001b[0m \u001b[32m━━━━━━━━━━━━━━━━━━━━\u001b[0m\u001b[37m\u001b[0m \u001b[1m8s\u001b[0m 8ms/step - accuracy: 0.9978 - loss: 0.0082\n",
            "Epoch 7/20\n",
            "\u001b[1m938/938\u001b[0m \u001b[32m━━━━━━━━━━━━━━━━━━━━\u001b[0m\u001b[37m\u001b[0m \u001b[1m7s\u001b[0m 7ms/step - accuracy: 0.9984 - loss: 0.0066\n",
            "Epoch 8/20\n",
            "\u001b[1m938/938\u001b[0m \u001b[32m━━━━━━━━━━━━━━━━━━━━\u001b[0m\u001b[37m\u001b[0m \u001b[1m8s\u001b[0m 8ms/step - accuracy: 0.9986 - loss: 0.0056\n",
            "Epoch 9/20\n",
            "\u001b[1m938/938\u001b[0m \u001b[32m━━━━━━━━━━━━━━━━━━━━\u001b[0m\u001b[37m\u001b[0m \u001b[1m9s\u001b[0m 7ms/step - accuracy: 0.9990 - loss: 0.0036\n",
            "Epoch 10/20\n",
            "\u001b[1m938/938\u001b[0m \u001b[32m━━━━━━━━━━━━━━━━━━━━\u001b[0m\u001b[37m\u001b[0m \u001b[1m8s\u001b[0m 8ms/step - accuracy: 0.9996 - loss: 0.0021\n",
            "Epoch 11/20\n",
            "\u001b[1m938/938\u001b[0m \u001b[32m━━━━━━━━━━━━━━━━━━━━\u001b[0m\u001b[37m\u001b[0m \u001b[1m6s\u001b[0m 7ms/step - accuracy: 0.9996 - loss: 0.0017\n",
            "Epoch 12/20\n",
            "\u001b[1m938/938\u001b[0m \u001b[32m━━━━━━━━━━━━━━━━━━━━\u001b[0m\u001b[37m\u001b[0m \u001b[1m8s\u001b[0m 8ms/step - accuracy: 0.9998 - loss: 7.5437e-04\n",
            "Epoch 13/20\n",
            "\u001b[1m938/938\u001b[0m \u001b[32m━━━━━━━━━━━━━━━━━━━━\u001b[0m\u001b[37m\u001b[0m \u001b[1m9s\u001b[0m 7ms/step - accuracy: 1.0000 - loss: 2.6951e-04\n",
            "Epoch 14/20\n",
            "\u001b[1m938/938\u001b[0m \u001b[32m━━━━━━━━━━━━━━━━━━━━\u001b[0m\u001b[37m\u001b[0m \u001b[1m9s\u001b[0m 7ms/step - accuracy: 1.0000 - loss: 2.1841e-04\n",
            "Epoch 15/20\n",
            "\u001b[1m938/938\u001b[0m \u001b[32m━━━━━━━━━━━━━━━━━━━━\u001b[0m\u001b[37m\u001b[0m \u001b[1m8s\u001b[0m 8ms/step - accuracy: 1.0000 - loss: 1.5208e-04\n",
            "Epoch 16/20\n",
            "\u001b[1m938/938\u001b[0m \u001b[32m━━━━━━━━━━━━━━━━━━━━\u001b[0m\u001b[37m\u001b[0m \u001b[1m9s\u001b[0m 7ms/step - accuracy: 1.0000 - loss: 1.1466e-04\n",
            "Epoch 17/20\n",
            "\u001b[1m938/938\u001b[0m \u001b[32m━━━━━━━━━━━━━━━━━━━━\u001b[0m\u001b[37m\u001b[0m \u001b[1m7s\u001b[0m 8ms/step - accuracy: 1.0000 - loss: 9.3262e-05\n",
            "Epoch 18/20\n",
            "\u001b[1m938/938\u001b[0m \u001b[32m━━━━━━━━━━━━━━━━━━━━\u001b[0m\u001b[37m\u001b[0m \u001b[1m11s\u001b[0m 8ms/step - accuracy: 1.0000 - loss: 8.3412e-05\n",
            "Epoch 19/20\n",
            "\u001b[1m938/938\u001b[0m \u001b[32m━━━━━━━━━━━━━━━━━━━━\u001b[0m\u001b[37m\u001b[0m \u001b[1m6s\u001b[0m 7ms/step - accuracy: 1.0000 - loss: 7.6042e-05\n",
            "Epoch 20/20\n",
            "\u001b[1m938/938\u001b[0m \u001b[32m━━━━━━━━━━━━━━━━━━━━\u001b[0m\u001b[37m\u001b[0m \u001b[1m8s\u001b[0m 8ms/step - accuracy: 1.0000 - loss: 6.9360e-05\n"
          ]
        },
        {
          "data": {
            "text/plain": [
              "<keras.src.callbacks.history.History at 0x79cae4c9e8f0>"
            ]
          },
          "execution_count": 33,
          "metadata": {},
          "output_type": "execute_result"
        }
      ],
      "source": [
        "model.fit(train_images, train_labels, epochs=20, batch_size=64)"
      ]
    },
    {
      "cell_type": "code",
      "execution_count": null,
      "metadata": {
        "colab": {
          "base_uri": "https://localhost:8080/"
        },
        "id": "qQQMqM5gaUqe",
        "outputId": "5488aa43-4768-4390-c70d-6ac3cdb2d5da"
      },
      "outputs": [
        {
          "name": "stdout",
          "output_type": "stream",
          "text": [
            "\u001b[1m1/1\u001b[0m \u001b[32m━━━━━━━━━━━━━━━━━━━━\u001b[0m\u001b[37m\u001b[0m \u001b[1m0s\u001b[0m 24ms/step\n",
            "7\n",
            "0.99999994\n"
          ]
        }
      ],
      "source": [
        "prediction = model.predict(test_images[:10])\n",
        "\n",
        "print(prediction[0].argmax())\n",
        "print(prediction[0][7])"
      ]
    },
    {
      "cell_type": "code",
      "execution_count": null,
      "metadata": {
        "colab": {
          "base_uri": "https://localhost:8080/"
        },
        "id": "l_uYzzX0aXod",
        "outputId": "60e6644b-91f1-42db-f234-b587394947cd"
      },
      "outputs": [
        {
          "name": "stdout",
          "output_type": "stream",
          "text": [
            "\u001b[1m313/313\u001b[0m \u001b[32m━━━━━━━━━━━━━━━━━━━━\u001b[0m\u001b[37m\u001b[0m \u001b[1m1s\u001b[0m 2ms/step - accuracy: 0.9801 - loss: 0.0948\n",
            "test_acc: 0.982699990272522\n"
          ]
        }
      ],
      "source": [
        "test_loss, test_acc = model.evaluate(test_images, test_labels)\n",
        "print(f'test_acc: {test_acc}')"
      ]
    },
    {
      "cell_type": "markdown",
      "metadata": {
        "id": "GkglJe6bpTEw"
      },
      "source": [
        "1. Изучите и выполните пример 3 на Jupyter Notebook или Colab.\n",
        "2. На основе блокнота (ноутбука) примера 3 постройте новую модель\n",
        "сверточных нейронных сетей с 5 слоями Conv2D и 4 слоями\n",
        "MaxPooling2D для классификации изображений на наборе данных\n",
        "MNIST.\n",
        "3. Обучите модель и сравните новый результат точности с результатом в\n",
        "примере 3.\n"
      ]
    },
    {
      "cell_type": "markdown",
      "source": [
        "![image.png](data:image/png;base64,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)"
      ],
      "metadata": {
        "id": "t5BlFwVd0WXK"
      }
    },
    {
      "cell_type": "markdown",
      "metadata": {
        "id": "ZV2rzjGxpVjp"
      },
      "source": [
        "### 1."
      ]
    },
    {
      "cell_type": "code",
      "execution_count": null,
      "metadata": {
        "id": "0JX9AVNaldJH"
      },
      "outputs": [],
      "source": [
        "from tensorflow.keras.datasets import mnist\n",
        "from tensorflow import keras\n",
        "from tensorflow.keras import layers\n",
        "\n",
        "(train_images, train_labels), (test_images, test_labels) = mnist.load_data()\n",
        "\n",
        "train_images = train_images.reshape((60000, 28, 28, 1))\n",
        "train_images = train_images.astype(\"float32\") / 255\n",
        "test_images = test_images.reshape((10000, 28, 28, 1))\n",
        "test_images = test_images.astype(\"float32\") / 255"
      ]
    },
    {
      "cell_type": "code",
      "execution_count": null,
      "metadata": {
        "colab": {
          "base_uri": "https://localhost:8080/",
          "height": 402
        },
        "id": "hQw0c6AOlq5m",
        "outputId": "7f3df514-fccb-4f01-a847-94abc75a63da"
      },
      "outputs": [
        {
          "data": {
            "text/html": [
              "<pre style=\"white-space:pre;overflow-x:auto;line-height:normal;font-family:Menlo,'DejaVu Sans Mono',consolas,'Courier New',monospace\"><span style=\"font-weight: bold\">Model: \"functional_16\"</span>\n",
              "</pre>\n"
            ],
            "text/plain": [
              "\u001b[1mModel: \"functional_16\"\u001b[0m\n"
            ]
          },
          "metadata": {},
          "output_type": "display_data"
        },
        {
          "data": {
            "text/html": [
              "<pre style=\"white-space:pre;overflow-x:auto;line-height:normal;font-family:Menlo,'DejaVu Sans Mono',consolas,'Courier New',monospace\">┏━━━━━━━━━━━━━━━━━━━━━━━━━━━━━━━━━━━━━━┳━━━━━━━━━━━━━━━━━━━━━━━━━━━━━┳━━━━━━━━━━━━━━━━━┓\n",
              "┃<span style=\"font-weight: bold\"> Layer (type)                         </span>┃<span style=\"font-weight: bold\"> Output Shape                </span>┃<span style=\"font-weight: bold\">         Param # </span>┃\n",
              "┡━━━━━━━━━━━━━━━━━━━━━━━━━━━━━━━━━━━━━━╇━━━━━━━━━━━━━━━━━━━━━━━━━━━━━╇━━━━━━━━━━━━━━━━━┩\n",
              "│ input_layer_11 (<span style=\"color: #0087ff; text-decoration-color: #0087ff\">InputLayer</span>)          │ (<span style=\"color: #00d7ff; text-decoration-color: #00d7ff\">None</span>, <span style=\"color: #00af00; text-decoration-color: #00af00\">28</span>, <span style=\"color: #00af00; text-decoration-color: #00af00\">28</span>, <span style=\"color: #00af00; text-decoration-color: #00af00\">1</span>)           │               <span style=\"color: #00af00; text-decoration-color: #00af00\">0</span> │\n",
              "├──────────────────────────────────────┼─────────────────────────────┼─────────────────┤\n",
              "│ conv2d_9 (<span style=\"color: #0087ff; text-decoration-color: #0087ff\">Conv2D</span>)                    │ (<span style=\"color: #00d7ff; text-decoration-color: #00d7ff\">None</span>, <span style=\"color: #00af00; text-decoration-color: #00af00\">26</span>, <span style=\"color: #00af00; text-decoration-color: #00af00\">26</span>, <span style=\"color: #00af00; text-decoration-color: #00af00\">32</span>)          │             <span style=\"color: #00af00; text-decoration-color: #00af00\">320</span> │\n",
              "├──────────────────────────────────────┼─────────────────────────────┼─────────────────┤\n",
              "│ max_pooling2d_6 (<span style=\"color: #0087ff; text-decoration-color: #0087ff\">MaxPooling2D</span>)       │ (<span style=\"color: #00d7ff; text-decoration-color: #00d7ff\">None</span>, <span style=\"color: #00af00; text-decoration-color: #00af00\">13</span>, <span style=\"color: #00af00; text-decoration-color: #00af00\">13</span>, <span style=\"color: #00af00; text-decoration-color: #00af00\">32</span>)          │               <span style=\"color: #00af00; text-decoration-color: #00af00\">0</span> │\n",
              "├──────────────────────────────────────┼─────────────────────────────┼─────────────────┤\n",
              "│ conv2d_10 (<span style=\"color: #0087ff; text-decoration-color: #0087ff\">Conv2D</span>)                   │ (<span style=\"color: #00d7ff; text-decoration-color: #00d7ff\">None</span>, <span style=\"color: #00af00; text-decoration-color: #00af00\">11</span>, <span style=\"color: #00af00; text-decoration-color: #00af00\">11</span>, <span style=\"color: #00af00; text-decoration-color: #00af00\">64</span>)          │          <span style=\"color: #00af00; text-decoration-color: #00af00\">18,496</span> │\n",
              "├──────────────────────────────────────┼─────────────────────────────┼─────────────────┤\n",
              "│ max_pooling2d_7 (<span style=\"color: #0087ff; text-decoration-color: #0087ff\">MaxPooling2D</span>)       │ (<span style=\"color: #00d7ff; text-decoration-color: #00d7ff\">None</span>, <span style=\"color: #00af00; text-decoration-color: #00af00\">5</span>, <span style=\"color: #00af00; text-decoration-color: #00af00\">5</span>, <span style=\"color: #00af00; text-decoration-color: #00af00\">64</span>)            │               <span style=\"color: #00af00; text-decoration-color: #00af00\">0</span> │\n",
              "├──────────────────────────────────────┼─────────────────────────────┼─────────────────┤\n",
              "│ conv2d_11 (<span style=\"color: #0087ff; text-decoration-color: #0087ff\">Conv2D</span>)                   │ (<span style=\"color: #00d7ff; text-decoration-color: #00d7ff\">None</span>, <span style=\"color: #00af00; text-decoration-color: #00af00\">3</span>, <span style=\"color: #00af00; text-decoration-color: #00af00\">3</span>, <span style=\"color: #00af00; text-decoration-color: #00af00\">128</span>)           │          <span style=\"color: #00af00; text-decoration-color: #00af00\">73,856</span> │\n",
              "├──────────────────────────────────────┼─────────────────────────────┼─────────────────┤\n",
              "│ flatten_3 (<span style=\"color: #0087ff; text-decoration-color: #0087ff\">Flatten</span>)                  │ (<span style=\"color: #00d7ff; text-decoration-color: #00d7ff\">None</span>, <span style=\"color: #00af00; text-decoration-color: #00af00\">1152</span>)                │               <span style=\"color: #00af00; text-decoration-color: #00af00\">0</span> │\n",
              "├──────────────────────────────────────┼─────────────────────────────┼─────────────────┤\n",
              "│ dense_24 (<span style=\"color: #0087ff; text-decoration-color: #0087ff\">Dense</span>)                     │ (<span style=\"color: #00d7ff; text-decoration-color: #00d7ff\">None</span>, <span style=\"color: #00af00; text-decoration-color: #00af00\">10</span>)                  │          <span style=\"color: #00af00; text-decoration-color: #00af00\">11,530</span> │\n",
              "└──────────────────────────────────────┴─────────────────────────────┴─────────────────┘\n",
              "</pre>\n"
            ],
            "text/plain": [
              "┏━━━━━━━━━━━━━━━━━━━━━━━━━━━━━━━━━━━━━━┳━━━━━━━━━━━━━━━━━━━━━━━━━━━━━┳━━━━━━━━━━━━━━━━━┓\n",
              "┃\u001b[1m \u001b[0m\u001b[1mLayer (type)                        \u001b[0m\u001b[1m \u001b[0m┃\u001b[1m \u001b[0m\u001b[1mOutput Shape               \u001b[0m\u001b[1m \u001b[0m┃\u001b[1m \u001b[0m\u001b[1m        Param #\u001b[0m\u001b[1m \u001b[0m┃\n",
              "┡━━━━━━━━━━━━━━━━━━━━━━━━━━━━━━━━━━━━━━╇━━━━━━━━━━━━━━━━━━━━━━━━━━━━━╇━━━━━━━━━━━━━━━━━┩\n",
              "│ input_layer_11 (\u001b[38;5;33mInputLayer\u001b[0m)          │ (\u001b[38;5;45mNone\u001b[0m, \u001b[38;5;34m28\u001b[0m, \u001b[38;5;34m28\u001b[0m, \u001b[38;5;34m1\u001b[0m)           │               \u001b[38;5;34m0\u001b[0m │\n",
              "├──────────────────────────────────────┼─────────────────────────────┼─────────────────┤\n",
              "│ conv2d_9 (\u001b[38;5;33mConv2D\u001b[0m)                    │ (\u001b[38;5;45mNone\u001b[0m, \u001b[38;5;34m26\u001b[0m, \u001b[38;5;34m26\u001b[0m, \u001b[38;5;34m32\u001b[0m)          │             \u001b[38;5;34m320\u001b[0m │\n",
              "├──────────────────────────────────────┼─────────────────────────────┼─────────────────┤\n",
              "│ max_pooling2d_6 (\u001b[38;5;33mMaxPooling2D\u001b[0m)       │ (\u001b[38;5;45mNone\u001b[0m, \u001b[38;5;34m13\u001b[0m, \u001b[38;5;34m13\u001b[0m, \u001b[38;5;34m32\u001b[0m)          │               \u001b[38;5;34m0\u001b[0m │\n",
              "├──────────────────────────────────────┼─────────────────────────────┼─────────────────┤\n",
              "│ conv2d_10 (\u001b[38;5;33mConv2D\u001b[0m)                   │ (\u001b[38;5;45mNone\u001b[0m, \u001b[38;5;34m11\u001b[0m, \u001b[38;5;34m11\u001b[0m, \u001b[38;5;34m64\u001b[0m)          │          \u001b[38;5;34m18,496\u001b[0m │\n",
              "├──────────────────────────────────────┼─────────────────────────────┼─────────────────┤\n",
              "│ max_pooling2d_7 (\u001b[38;5;33mMaxPooling2D\u001b[0m)       │ (\u001b[38;5;45mNone\u001b[0m, \u001b[38;5;34m5\u001b[0m, \u001b[38;5;34m5\u001b[0m, \u001b[38;5;34m64\u001b[0m)            │               \u001b[38;5;34m0\u001b[0m │\n",
              "├──────────────────────────────────────┼─────────────────────────────┼─────────────────┤\n",
              "│ conv2d_11 (\u001b[38;5;33mConv2D\u001b[0m)                   │ (\u001b[38;5;45mNone\u001b[0m, \u001b[38;5;34m3\u001b[0m, \u001b[38;5;34m3\u001b[0m, \u001b[38;5;34m128\u001b[0m)           │          \u001b[38;5;34m73,856\u001b[0m │\n",
              "├──────────────────────────────────────┼─────────────────────────────┼─────────────────┤\n",
              "│ flatten_3 (\u001b[38;5;33mFlatten\u001b[0m)                  │ (\u001b[38;5;45mNone\u001b[0m, \u001b[38;5;34m1152\u001b[0m)                │               \u001b[38;5;34m0\u001b[0m │\n",
              "├──────────────────────────────────────┼─────────────────────────────┼─────────────────┤\n",
              "│ dense_24 (\u001b[38;5;33mDense\u001b[0m)                     │ (\u001b[38;5;45mNone\u001b[0m, \u001b[38;5;34m10\u001b[0m)                  │          \u001b[38;5;34m11,530\u001b[0m │\n",
              "└──────────────────────────────────────┴─────────────────────────────┴─────────────────┘\n"
            ]
          },
          "metadata": {},
          "output_type": "display_data"
        },
        {
          "data": {
            "text/html": [
              "<pre style=\"white-space:pre;overflow-x:auto;line-height:normal;font-family:Menlo,'DejaVu Sans Mono',consolas,'Courier New',monospace\"><span style=\"font-weight: bold\"> Total params: </span><span style=\"color: #00af00; text-decoration-color: #00af00\">104,202</span> (407.04 KB)\n",
              "</pre>\n"
            ],
            "text/plain": [
              "\u001b[1m Total params: \u001b[0m\u001b[38;5;34m104,202\u001b[0m (407.04 KB)\n"
            ]
          },
          "metadata": {},
          "output_type": "display_data"
        },
        {
          "data": {
            "text/html": [
              "<pre style=\"white-space:pre;overflow-x:auto;line-height:normal;font-family:Menlo,'DejaVu Sans Mono',consolas,'Courier New',monospace\"><span style=\"font-weight: bold\"> Trainable params: </span><span style=\"color: #00af00; text-decoration-color: #00af00\">104,202</span> (407.04 KB)\n",
              "</pre>\n"
            ],
            "text/plain": [
              "\u001b[1m Trainable params: \u001b[0m\u001b[38;5;34m104,202\u001b[0m (407.04 KB)\n"
            ]
          },
          "metadata": {},
          "output_type": "display_data"
        },
        {
          "data": {
            "text/html": [
              "<pre style=\"white-space:pre;overflow-x:auto;line-height:normal;font-family:Menlo,'DejaVu Sans Mono',consolas,'Courier New',monospace\"><span style=\"font-weight: bold\"> Non-trainable params: </span><span style=\"color: #00af00; text-decoration-color: #00af00\">0</span> (0.00 B)\n",
              "</pre>\n"
            ],
            "text/plain": [
              "\u001b[1m Non-trainable params: \u001b[0m\u001b[38;5;34m0\u001b[0m (0.00 B)\n"
            ]
          },
          "metadata": {},
          "output_type": "display_data"
        }
      ],
      "source": [
        "inputs = keras.Input(shape=(28, 28, 1))\n",
        "x = layers.Conv2D(filters=32, kernel_size=3, activation='relu')(inputs)\n",
        "x = layers.MaxPooling2D(pool_size=2)(x)\n",
        "x = layers.Conv2D(filters=64, kernel_size=3, activation='relu')(x)\n",
        "x = layers.MaxPooling2D(pool_size=2)(x)\n",
        "x = layers.Conv2D(filters=128, kernel_size=3, activation='relu')(x)\n",
        "x = layers.Flatten()(x)\n",
        "\n",
        "outputs = layers.Dense(10, activation='softmax')(x)\n",
        "\n",
        "model = keras.Model(inputs=inputs, outputs=outputs)\n",
        "model.summary()\n",
        "model.compile(optimizer='rmsprop',\n",
        "              loss='sparse_categorical_crossentropy',\n",
        "              metrics=['accuracy']\n",
        ")"
      ]
    },
    {
      "cell_type": "code",
      "execution_count": null,
      "metadata": {
        "colab": {
          "base_uri": "https://localhost:8080/"
        },
        "id": "bBybaasvn_Fn",
        "outputId": "ea6ad9fa-873d-4c7b-d7f4-eda13a32dfb4"
      },
      "outputs": [
        {
          "name": "stdout",
          "output_type": "stream",
          "text": [
            "Epoch 1/5\n",
            "\u001b[1m938/938\u001b[0m \u001b[32m━━━━━━━━━━━━━━━━━━━━\u001b[0m\u001b[37m\u001b[0m \u001b[1m61s\u001b[0m 64ms/step - accuracy: 0.8881 - loss: 0.3569\n",
            "Epoch 2/5\n",
            "\u001b[1m938/938\u001b[0m \u001b[32m━━━━━━━━━━━━━━━━━━━━\u001b[0m\u001b[37m\u001b[0m \u001b[1m59s\u001b[0m 63ms/step - accuracy: 0.9856 - loss: 0.0461\n",
            "Epoch 3/5\n",
            "\u001b[1m938/938\u001b[0m \u001b[32m━━━━━━━━━━━━━━━━━━━━\u001b[0m\u001b[37m\u001b[0m \u001b[1m84s\u001b[0m 66ms/step - accuracy: 0.9908 - loss: 0.0307\n",
            "Epoch 4/5\n",
            "\u001b[1m938/938\u001b[0m \u001b[32m━━━━━━━━━━━━━━━━━━━━\u001b[0m\u001b[37m\u001b[0m \u001b[1m58s\u001b[0m 62ms/step - accuracy: 0.9927 - loss: 0.0229\n",
            "Epoch 5/5\n",
            "\u001b[1m938/938\u001b[0m \u001b[32m━━━━━━━━━━━━━━━━━━━━\u001b[0m\u001b[37m\u001b[0m \u001b[1m84s\u001b[0m 64ms/step - accuracy: 0.9948 - loss: 0.0160\n"
          ]
        },
        {
          "data": {
            "text/plain": [
              "<keras.src.callbacks.history.History at 0x79cae4d53df0>"
            ]
          },
          "execution_count": 43,
          "metadata": {},
          "output_type": "execute_result"
        }
      ],
      "source": [
        "model.fit(train_images, train_labels, epochs=5, batch_size=64)"
      ]
    },
    {
      "cell_type": "code",
      "execution_count": null,
      "metadata": {
        "colab": {
          "base_uri": "https://localhost:8080/"
        },
        "id": "dgAgS0PKooqO",
        "outputId": "3f3175f4-264b-4f2a-d6fe-a9cec4e4cb35"
      },
      "outputs": [
        {
          "name": "stdout",
          "output_type": "stream",
          "text": [
            "\u001b[1m313/313\u001b[0m \u001b[32m━━━━━━━━━━━━━━━━━━━━\u001b[0m\u001b[37m\u001b[0m \u001b[1m3s\u001b[0m 10ms/step - accuracy: 0.9887 - loss: 0.0308\n",
            "test_acc: 0.9916999936103821\n"
          ]
        }
      ],
      "source": [
        "test_loss, test_acc = model.evaluate(test_images, test_labels)\n",
        "print(f'test_acc: {test_acc}')"
      ]
    },
    {
      "cell_type": "markdown",
      "metadata": {
        "id": "zGwKYF9gpisp"
      },
      "source": [
        "### 2-3."
      ]
    },
    {
      "cell_type": "code",
      "execution_count": null,
      "metadata": {
        "colab": {
          "base_uri": "https://localhost:8080/",
          "height": 530
        },
        "id": "atLtwypapwg3",
        "outputId": "9a56fa13-2f41-4d08-c611-af545575c5a1"
      },
      "outputs": [
        {
          "data": {
            "text/html": [
              "<pre style=\"white-space:pre;overflow-x:auto;line-height:normal;font-family:Menlo,'DejaVu Sans Mono',consolas,'Courier New',monospace\"><span style=\"font-weight: bold\">Model: \"functional_18\"</span>\n",
              "</pre>\n"
            ],
            "text/plain": [
              "\u001b[1mModel: \"functional_18\"\u001b[0m\n"
            ]
          },
          "metadata": {},
          "output_type": "display_data"
        },
        {
          "data": {
            "text/html": [
              "<pre style=\"white-space:pre;overflow-x:auto;line-height:normal;font-family:Menlo,'DejaVu Sans Mono',consolas,'Courier New',monospace\">┏━━━━━━━━━━━━━━━━━━━━━━━━━━━━━━━━━━━━━━┳━━━━━━━━━━━━━━━━━━━━━━━━━━━━━┳━━━━━━━━━━━━━━━━━┓\n",
              "┃<span style=\"font-weight: bold\"> Layer (type)                         </span>┃<span style=\"font-weight: bold\"> Output Shape                </span>┃<span style=\"font-weight: bold\">         Param # </span>┃\n",
              "┡━━━━━━━━━━━━━━━━━━━━━━━━━━━━━━━━━━━━━━╇━━━━━━━━━━━━━━━━━━━━━━━━━━━━━╇━━━━━━━━━━━━━━━━━┩\n",
              "│ input_layer_14 (<span style=\"color: #0087ff; text-decoration-color: #0087ff\">InputLayer</span>)          │ (<span style=\"color: #00d7ff; text-decoration-color: #00d7ff\">None</span>, <span style=\"color: #00af00; text-decoration-color: #00af00\">28</span>, <span style=\"color: #00af00; text-decoration-color: #00af00\">28</span>, <span style=\"color: #00af00; text-decoration-color: #00af00\">1</span>)           │               <span style=\"color: #00af00; text-decoration-color: #00af00\">0</span> │\n",
              "├──────────────────────────────────────┼─────────────────────────────┼─────────────────┤\n",
              "│ conv2d_21 (<span style=\"color: #0087ff; text-decoration-color: #0087ff\">Conv2D</span>)                   │ (<span style=\"color: #00d7ff; text-decoration-color: #00d7ff\">None</span>, <span style=\"color: #00af00; text-decoration-color: #00af00\">26</span>, <span style=\"color: #00af00; text-decoration-color: #00af00\">26</span>, <span style=\"color: #00af00; text-decoration-color: #00af00\">32</span>)          │             <span style=\"color: #00af00; text-decoration-color: #00af00\">320</span> │\n",
              "├──────────────────────────────────────┼─────────────────────────────┼─────────────────┤\n",
              "│ max_pooling2d_15 (<span style=\"color: #0087ff; text-decoration-color: #0087ff\">MaxPooling2D</span>)      │ (<span style=\"color: #00d7ff; text-decoration-color: #00d7ff\">None</span>, <span style=\"color: #00af00; text-decoration-color: #00af00\">13</span>, <span style=\"color: #00af00; text-decoration-color: #00af00\">13</span>, <span style=\"color: #00af00; text-decoration-color: #00af00\">32</span>)          │               <span style=\"color: #00af00; text-decoration-color: #00af00\">0</span> │\n",
              "├──────────────────────────────────────┼─────────────────────────────┼─────────────────┤\n",
              "│ conv2d_22 (<span style=\"color: #0087ff; text-decoration-color: #0087ff\">Conv2D</span>)                   │ (<span style=\"color: #00d7ff; text-decoration-color: #00d7ff\">None</span>, <span style=\"color: #00af00; text-decoration-color: #00af00\">11</span>, <span style=\"color: #00af00; text-decoration-color: #00af00\">11</span>, <span style=\"color: #00af00; text-decoration-color: #00af00\">64</span>)          │          <span style=\"color: #00af00; text-decoration-color: #00af00\">18,496</span> │\n",
              "├──────────────────────────────────────┼─────────────────────────────┼─────────────────┤\n",
              "│ max_pooling2d_16 (<span style=\"color: #0087ff; text-decoration-color: #0087ff\">MaxPooling2D</span>)      │ (<span style=\"color: #00d7ff; text-decoration-color: #00d7ff\">None</span>, <span style=\"color: #00af00; text-decoration-color: #00af00\">5</span>, <span style=\"color: #00af00; text-decoration-color: #00af00\">5</span>, <span style=\"color: #00af00; text-decoration-color: #00af00\">64</span>)            │               <span style=\"color: #00af00; text-decoration-color: #00af00\">0</span> │\n",
              "├──────────────────────────────────────┼─────────────────────────────┼─────────────────┤\n",
              "│ conv2d_23 (<span style=\"color: #0087ff; text-decoration-color: #0087ff\">Conv2D</span>)                   │ (<span style=\"color: #00d7ff; text-decoration-color: #00d7ff\">None</span>, <span style=\"color: #00af00; text-decoration-color: #00af00\">3</span>, <span style=\"color: #00af00; text-decoration-color: #00af00\">3</span>, <span style=\"color: #00af00; text-decoration-color: #00af00\">128</span>)           │          <span style=\"color: #00af00; text-decoration-color: #00af00\">73,856</span> │\n",
              "├──────────────────────────────────────┼─────────────────────────────┼─────────────────┤\n",
              "│ max_pooling2d_17 (<span style=\"color: #0087ff; text-decoration-color: #0087ff\">MaxPooling2D</span>)      │ (<span style=\"color: #00d7ff; text-decoration-color: #00d7ff\">None</span>, <span style=\"color: #00af00; text-decoration-color: #00af00\">3</span>, <span style=\"color: #00af00; text-decoration-color: #00af00\">3</span>, <span style=\"color: #00af00; text-decoration-color: #00af00\">128</span>)           │               <span style=\"color: #00af00; text-decoration-color: #00af00\">0</span> │\n",
              "├──────────────────────────────────────┼─────────────────────────────┼─────────────────┤\n",
              "│ conv2d_24 (<span style=\"color: #0087ff; text-decoration-color: #0087ff\">Conv2D</span>)                   │ (<span style=\"color: #00d7ff; text-decoration-color: #00d7ff\">None</span>, <span style=\"color: #00af00; text-decoration-color: #00af00\">3</span>, <span style=\"color: #00af00; text-decoration-color: #00af00\">3</span>, <span style=\"color: #00af00; text-decoration-color: #00af00\">256</span>)           │          <span style=\"color: #00af00; text-decoration-color: #00af00\">33,024</span> │\n",
              "├──────────────────────────────────────┼─────────────────────────────┼─────────────────┤\n",
              "│ max_pooling2d_18 (<span style=\"color: #0087ff; text-decoration-color: #0087ff\">MaxPooling2D</span>)      │ (<span style=\"color: #00d7ff; text-decoration-color: #00d7ff\">None</span>, <span style=\"color: #00af00; text-decoration-color: #00af00\">3</span>, <span style=\"color: #00af00; text-decoration-color: #00af00\">3</span>, <span style=\"color: #00af00; text-decoration-color: #00af00\">256</span>)           │               <span style=\"color: #00af00; text-decoration-color: #00af00\">0</span> │\n",
              "├──────────────────────────────────────┼─────────────────────────────┼─────────────────┤\n",
              "│ conv2d_25 (<span style=\"color: #0087ff; text-decoration-color: #0087ff\">Conv2D</span>)                   │ (<span style=\"color: #00d7ff; text-decoration-color: #00d7ff\">None</span>, <span style=\"color: #00af00; text-decoration-color: #00af00\">3</span>, <span style=\"color: #00af00; text-decoration-color: #00af00\">3</span>, <span style=\"color: #00af00; text-decoration-color: #00af00\">1024</span>)          │         <span style=\"color: #00af00; text-decoration-color: #00af00\">263,168</span> │\n",
              "├──────────────────────────────────────┼─────────────────────────────┼─────────────────┤\n",
              "│ flatten_5 (<span style=\"color: #0087ff; text-decoration-color: #0087ff\">Flatten</span>)                  │ (<span style=\"color: #00d7ff; text-decoration-color: #00d7ff\">None</span>, <span style=\"color: #00af00; text-decoration-color: #00af00\">9216</span>)                │               <span style=\"color: #00af00; text-decoration-color: #00af00\">0</span> │\n",
              "├──────────────────────────────────────┼─────────────────────────────┼─────────────────┤\n",
              "│ dense_26 (<span style=\"color: #0087ff; text-decoration-color: #0087ff\">Dense</span>)                     │ (<span style=\"color: #00d7ff; text-decoration-color: #00d7ff\">None</span>, <span style=\"color: #00af00; text-decoration-color: #00af00\">10</span>)                  │          <span style=\"color: #00af00; text-decoration-color: #00af00\">92,170</span> │\n",
              "└──────────────────────────────────────┴─────────────────────────────┴─────────────────┘\n",
              "</pre>\n"
            ],
            "text/plain": [
              "┏━━━━━━━━━━━━━━━━━━━━━━━━━━━━━━━━━━━━━━┳━━━━━━━━━━━━━━━━━━━━━━━━━━━━━┳━━━━━━━━━━━━━━━━━┓\n",
              "┃\u001b[1m \u001b[0m\u001b[1mLayer (type)                        \u001b[0m\u001b[1m \u001b[0m┃\u001b[1m \u001b[0m\u001b[1mOutput Shape               \u001b[0m\u001b[1m \u001b[0m┃\u001b[1m \u001b[0m\u001b[1m        Param #\u001b[0m\u001b[1m \u001b[0m┃\n",
              "┡━━━━━━━━━━━━━━━━━━━━━━━━━━━━━━━━━━━━━━╇━━━━━━━━━━━━━━━━━━━━━━━━━━━━━╇━━━━━━━━━━━━━━━━━┩\n",
              "│ input_layer_14 (\u001b[38;5;33mInputLayer\u001b[0m)          │ (\u001b[38;5;45mNone\u001b[0m, \u001b[38;5;34m28\u001b[0m, \u001b[38;5;34m28\u001b[0m, \u001b[38;5;34m1\u001b[0m)           │               \u001b[38;5;34m0\u001b[0m │\n",
              "├──────────────────────────────────────┼─────────────────────────────┼─────────────────┤\n",
              "│ conv2d_21 (\u001b[38;5;33mConv2D\u001b[0m)                   │ (\u001b[38;5;45mNone\u001b[0m, \u001b[38;5;34m26\u001b[0m, \u001b[38;5;34m26\u001b[0m, \u001b[38;5;34m32\u001b[0m)          │             \u001b[38;5;34m320\u001b[0m │\n",
              "├──────────────────────────────────────┼─────────────────────────────┼─────────────────┤\n",
              "│ max_pooling2d_15 (\u001b[38;5;33mMaxPooling2D\u001b[0m)      │ (\u001b[38;5;45mNone\u001b[0m, \u001b[38;5;34m13\u001b[0m, \u001b[38;5;34m13\u001b[0m, \u001b[38;5;34m32\u001b[0m)          │               \u001b[38;5;34m0\u001b[0m │\n",
              "├──────────────────────────────────────┼─────────────────────────────┼─────────────────┤\n",
              "│ conv2d_22 (\u001b[38;5;33mConv2D\u001b[0m)                   │ (\u001b[38;5;45mNone\u001b[0m, \u001b[38;5;34m11\u001b[0m, \u001b[38;5;34m11\u001b[0m, \u001b[38;5;34m64\u001b[0m)          │          \u001b[38;5;34m18,496\u001b[0m │\n",
              "├──────────────────────────────────────┼─────────────────────────────┼─────────────────┤\n",
              "│ max_pooling2d_16 (\u001b[38;5;33mMaxPooling2D\u001b[0m)      │ (\u001b[38;5;45mNone\u001b[0m, \u001b[38;5;34m5\u001b[0m, \u001b[38;5;34m5\u001b[0m, \u001b[38;5;34m64\u001b[0m)            │               \u001b[38;5;34m0\u001b[0m │\n",
              "├──────────────────────────────────────┼─────────────────────────────┼─────────────────┤\n",
              "│ conv2d_23 (\u001b[38;5;33mConv2D\u001b[0m)                   │ (\u001b[38;5;45mNone\u001b[0m, \u001b[38;5;34m3\u001b[0m, \u001b[38;5;34m3\u001b[0m, \u001b[38;5;34m128\u001b[0m)           │          \u001b[38;5;34m73,856\u001b[0m │\n",
              "├──────────────────────────────────────┼─────────────────────────────┼─────────────────┤\n",
              "│ max_pooling2d_17 (\u001b[38;5;33mMaxPooling2D\u001b[0m)      │ (\u001b[38;5;45mNone\u001b[0m, \u001b[38;5;34m3\u001b[0m, \u001b[38;5;34m3\u001b[0m, \u001b[38;5;34m128\u001b[0m)           │               \u001b[38;5;34m0\u001b[0m │\n",
              "├──────────────────────────────────────┼─────────────────────────────┼─────────────────┤\n",
              "│ conv2d_24 (\u001b[38;5;33mConv2D\u001b[0m)                   │ (\u001b[38;5;45mNone\u001b[0m, \u001b[38;5;34m3\u001b[0m, \u001b[38;5;34m3\u001b[0m, \u001b[38;5;34m256\u001b[0m)           │          \u001b[38;5;34m33,024\u001b[0m │\n",
              "├──────────────────────────────────────┼─────────────────────────────┼─────────────────┤\n",
              "│ max_pooling2d_18 (\u001b[38;5;33mMaxPooling2D\u001b[0m)      │ (\u001b[38;5;45mNone\u001b[0m, \u001b[38;5;34m3\u001b[0m, \u001b[38;5;34m3\u001b[0m, \u001b[38;5;34m256\u001b[0m)           │               \u001b[38;5;34m0\u001b[0m │\n",
              "├──────────────────────────────────────┼─────────────────────────────┼─────────────────┤\n",
              "│ conv2d_25 (\u001b[38;5;33mConv2D\u001b[0m)                   │ (\u001b[38;5;45mNone\u001b[0m, \u001b[38;5;34m3\u001b[0m, \u001b[38;5;34m3\u001b[0m, \u001b[38;5;34m1024\u001b[0m)          │         \u001b[38;5;34m263,168\u001b[0m │\n",
              "├──────────────────────────────────────┼─────────────────────────────┼─────────────────┤\n",
              "│ flatten_5 (\u001b[38;5;33mFlatten\u001b[0m)                  │ (\u001b[38;5;45mNone\u001b[0m, \u001b[38;5;34m9216\u001b[0m)                │               \u001b[38;5;34m0\u001b[0m │\n",
              "├──────────────────────────────────────┼─────────────────────────────┼─────────────────┤\n",
              "│ dense_26 (\u001b[38;5;33mDense\u001b[0m)                     │ (\u001b[38;5;45mNone\u001b[0m, \u001b[38;5;34m10\u001b[0m)                  │          \u001b[38;5;34m92,170\u001b[0m │\n",
              "└──────────────────────────────────────┴─────────────────────────────┴─────────────────┘\n"
            ]
          },
          "metadata": {},
          "output_type": "display_data"
        },
        {
          "data": {
            "text/html": [
              "<pre style=\"white-space:pre;overflow-x:auto;line-height:normal;font-family:Menlo,'DejaVu Sans Mono',consolas,'Courier New',monospace\"><span style=\"font-weight: bold\"> Total params: </span><span style=\"color: #00af00; text-decoration-color: #00af00\">481,034</span> (1.83 MB)\n",
              "</pre>\n"
            ],
            "text/plain": [
              "\u001b[1m Total params: \u001b[0m\u001b[38;5;34m481,034\u001b[0m (1.83 MB)\n"
            ]
          },
          "metadata": {},
          "output_type": "display_data"
        },
        {
          "data": {
            "text/html": [
              "<pre style=\"white-space:pre;overflow-x:auto;line-height:normal;font-family:Menlo,'DejaVu Sans Mono',consolas,'Courier New',monospace\"><span style=\"font-weight: bold\"> Trainable params: </span><span style=\"color: #00af00; text-decoration-color: #00af00\">481,034</span> (1.83 MB)\n",
              "</pre>\n"
            ],
            "text/plain": [
              "\u001b[1m Trainable params: \u001b[0m\u001b[38;5;34m481,034\u001b[0m (1.83 MB)\n"
            ]
          },
          "metadata": {},
          "output_type": "display_data"
        },
        {
          "data": {
            "text/html": [
              "<pre style=\"white-space:pre;overflow-x:auto;line-height:normal;font-family:Menlo,'DejaVu Sans Mono',consolas,'Courier New',monospace\"><span style=\"font-weight: bold\"> Non-trainable params: </span><span style=\"color: #00af00; text-decoration-color: #00af00\">0</span> (0.00 B)\n",
              "</pre>\n"
            ],
            "text/plain": [
              "\u001b[1m Non-trainable params: \u001b[0m\u001b[38;5;34m0\u001b[0m (0.00 B)\n"
            ]
          },
          "metadata": {},
          "output_type": "display_data"
        }
      ],
      "source": [
        "inputs = keras.Input(shape=(28, 28, 1))\n",
        "x = layers.Conv2D(filters=32, kernel_size=3, activation='relu')(inputs)\n",
        "x = layers.MaxPooling2D(pool_size=2)(x)\n",
        "x = layers.Conv2D(filters=64, kernel_size=3, activation='relu')(x)\n",
        "x = layers.MaxPooling2D(pool_size=2)(x)\n",
        "x = layers.Conv2D(filters=128, kernel_size=3, activation='relu')(x)\n",
        "x = layers.MaxPooling2D(pool_size=1, strides=1)(x)\n",
        "x = layers.Conv2D(filters=256, kernel_size=1, activation='relu')(x)\n",
        "x = layers.MaxPooling2D(pool_size=1, strides=1)(x)\n",
        "x = layers.Conv2D(filters=1024, kernel_size=1, activation='relu')(x)\n",
        "x = layers.Flatten()(x)\n",
        "\n",
        "outputs = layers.Dense(10, activation='softmax')(x)\n",
        "\n",
        "model = keras.Model(inputs=inputs, outputs=outputs)\n",
        "model.summary()\n",
        "model.compile(optimizer='rmsprop',\n",
        "              loss='sparse_categorical_crossentropy',\n",
        "              metrics=['accuracy']\n",
        ")"
      ]
    },
    {
      "cell_type": "code",
      "execution_count": null,
      "metadata": {
        "colab": {
          "base_uri": "https://localhost:8080/"
        },
        "id": "D_3bHX65qQa5",
        "outputId": "97673029-c364-4098-c5df-db633385bdad"
      },
      "outputs": [
        {
          "name": "stdout",
          "output_type": "stream",
          "text": [
            "Epoch 1/5\n",
            "\u001b[1m938/938\u001b[0m \u001b[32m━━━━━━━━━━━━━━━━━━━━\u001b[0m\u001b[37m\u001b[0m \u001b[1m117s\u001b[0m 122ms/step - accuracy: 0.8770 - loss: 0.3787\n",
            "Epoch 2/5\n",
            "\u001b[1m938/938\u001b[0m \u001b[32m━━━━━━━━━━━━━━━━━━━━\u001b[0m\u001b[37m\u001b[0m \u001b[1m141s\u001b[0m 122ms/step - accuracy: 0.9839 - loss: 0.0485\n",
            "Epoch 3/5\n",
            "\u001b[1m938/938\u001b[0m \u001b[32m━━━━━━━━━━━━━━━━━━━━\u001b[0m\u001b[37m\u001b[0m \u001b[1m145s\u001b[0m 125ms/step - accuracy: 0.9893 - loss: 0.0339\n",
            "Epoch 4/5\n",
            "\u001b[1m938/938\u001b[0m \u001b[32m━━━━━━━━━━━━━━━━━━━━\u001b[0m\u001b[37m\u001b[0m \u001b[1m141s\u001b[0m 124ms/step - accuracy: 0.9930 - loss: 0.0226\n",
            "Epoch 5/5\n",
            "\u001b[1m938/938\u001b[0m \u001b[32m━━━━━━━━━━━━━━━━━━━━\u001b[0m\u001b[37m\u001b[0m \u001b[1m142s\u001b[0m 124ms/step - accuracy: 0.9952 - loss: 0.0153\n"
          ]
        },
        {
          "data": {
            "text/plain": [
              "<keras.src.callbacks.history.History at 0x79cae47a95d0>"
            ]
          },
          "execution_count": 53,
          "metadata": {},
          "output_type": "execute_result"
        }
      ],
      "source": [
        "model.fit(train_images, train_labels, epochs=5, batch_size=64)"
      ]
    },
    {
      "cell_type": "markdown",
      "metadata": {
        "id": "iufQF1q74nAE"
      },
      "source": [
        "1. Изучите и выполните пример 4 на Jupyter Notebook или Colab.\n",
        "2. Попробуйте изменить нейронную сеть, чтобы улучшить качество\n",
        "решения:\n",
        "- Изменяйте количество нейронов в слоях\n",
        "- Добавляйте новые скрытые слои\n",
        "- Изменяйте количество эпох обучения\n",
        "- Изменяйте размер мини-выборки (batch_size)\n",
        "3. После подбора лучших гиперпараметров, обучите сеть еще раз на\n",
        "полном объеме данных без разделения на обучающий и проверочный\n",
        "наборы. Во время обучения следите, чтобы не возникло переобучение."
      ]
    },
    {
      "cell_type": "markdown",
      "source": [
        "![image.png](data:image/png;base64,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)"
      ],
      "metadata": {
        "id": "7I2EHDW80b4z"
      }
    },
    {
      "cell_type": "markdown",
      "metadata": {
        "id": "7XtK_n7rKEqT"
      },
      "source": [
        "### 1."
      ]
    },
    {
      "cell_type": "code",
      "execution_count": null,
      "metadata": {
        "id": "cWZreLD42ocb"
      },
      "outputs": [],
      "source": [
        "import numpy as np\n",
        "from keras.datasets import cifar10\n",
        "from keras.models import Sequential\n",
        "from keras.layers import Dense, Flatten, Activation\n",
        "from keras.layers import Dropout\n",
        "from tensorflow.keras.layers import Conv2D, MaxPooling2D\n",
        "from keras.utils import to_categorical\n",
        "from keras.optimizers import SGD\n",
        "import matplotlib.pyplot as plt"
      ]
    },
    {
      "cell_type": "code",
      "execution_count": null,
      "metadata": {
        "id": "zQKuwe2-20Sw"
      },
      "outputs": [],
      "source": [
        "np.random.seed(42)"
      ]
    },
    {
      "cell_type": "code",
      "execution_count": null,
      "metadata": {
        "colab": {
          "base_uri": "https://localhost:8080/"
        },
        "id": "lqBpUoFy25Gl",
        "outputId": "5282c1d7-b98d-4939-bd98-b517f29ed1bc"
      },
      "outputs": [
        {
          "output_type": "stream",
          "name": "stdout",
          "text": [
            "Downloading data from https://www.cs.toronto.edu/~kriz/cifar-10-python.tar.gz\n",
            "\u001b[1m170498071/170498071\u001b[0m \u001b[32m━━━━━━━━━━━━━━━━━━━━\u001b[0m\u001b[37m\u001b[0m \u001b[1m3s\u001b[0m 0us/step\n"
          ]
        }
      ],
      "source": [
        "(x_train, y_train), (x_test, y_test) = cifar10.load_data()\n",
        "\n",
        "class_names = ['airplane', 'automobile', 'bird', 'cat', 'deer', 'dog', 'frog', 'horse', 'ship', 'truck']\n",
        "\n",
        "batch_size = 32\n",
        "nb_classes = 10\n",
        "nb_epoch = 25\n",
        "img_rows, img_cols = 32, 32\n",
        "img_channels = 3\n",
        "\n",
        "x_train = x_train.astype(\"float32\") / 255\n",
        "x_test = x_test.astype(\"float32\") / 255\n",
        "\n",
        "y_train = to_categorical(y_train, nb_classes)\n",
        "y_test = to_categorical(y_test, nb_classes)"
      ]
    },
    {
      "cell_type": "code",
      "execution_count": null,
      "metadata": {
        "colab": {
          "base_uri": "https://localhost:8080/",
          "height": 602
        },
        "id": "qWXqUgpg9HWt",
        "outputId": "a1577a85-e04c-480a-c194-924848c5f191"
      },
      "outputs": [
        {
          "output_type": "stream",
          "name": "stderr",
          "text": [
            "/usr/local/lib/python3.10/dist-packages/keras/src/layers/convolutional/base_conv.py:107: UserWarning: Do not pass an `input_shape`/`input_dim` argument to a layer. When using Sequential models, prefer using an `Input(shape)` object as the first layer in the model instead.\n",
            "  super().__init__(activity_regularizer=activity_regularizer, **kwargs)\n",
            "/usr/local/lib/python3.10/dist-packages/keras/src/optimizers/base_optimizer.py:33: UserWarning: Argument `decay` is no longer supported and will be ignored.\n",
            "  warnings.warn(\n"
          ]
        },
        {
          "output_type": "display_data",
          "data": {
            "text/plain": [
              "\u001b[1mModel: \"sequential_2\"\u001b[0m\n"
            ],
            "text/html": [
              "<pre style=\"white-space:pre;overflow-x:auto;line-height:normal;font-family:Menlo,'DejaVu Sans Mono',consolas,'Courier New',monospace\"><span style=\"font-weight: bold\">Model: \"sequential_2\"</span>\n",
              "</pre>\n"
            ]
          },
          "metadata": {}
        },
        {
          "output_type": "display_data",
          "data": {
            "text/plain": [
              "┏━━━━━━━━━━━━━━━━━━━━━━━━━━━━━━━━━━━━━━┳━━━━━━━━━━━━━━━━━━━━━━━━━━━━━┳━━━━━━━━━━━━━━━━━┓\n",
              "┃\u001b[1m \u001b[0m\u001b[1mLayer (type)                        \u001b[0m\u001b[1m \u001b[0m┃\u001b[1m \u001b[0m\u001b[1mOutput Shape               \u001b[0m\u001b[1m \u001b[0m┃\u001b[1m \u001b[0m\u001b[1m        Param #\u001b[0m\u001b[1m \u001b[0m┃\n",
              "┡━━━━━━━━━━━━━━━━━━━━━━━━━━━━━━━━━━━━━━╇━━━━━━━━━━━━━━━━━━━━━━━━━━━━━╇━━━━━━━━━━━━━━━━━┩\n",
              "│ conv2d (\u001b[38;5;33mConv2D\u001b[0m)                      │ (\u001b[38;5;45mNone\u001b[0m, \u001b[38;5;34m32\u001b[0m, \u001b[38;5;34m32\u001b[0m, \u001b[38;5;34m32\u001b[0m)          │             \u001b[38;5;34m896\u001b[0m │\n",
              "├──────────────────────────────────────┼─────────────────────────────┼─────────────────┤\n",
              "│ conv2d_1 (\u001b[38;5;33mConv2D\u001b[0m)                    │ (\u001b[38;5;45mNone\u001b[0m, \u001b[38;5;34m32\u001b[0m, \u001b[38;5;34m32\u001b[0m, \u001b[38;5;34m32\u001b[0m)          │           \u001b[38;5;34m9,248\u001b[0m │\n",
              "├──────────────────────────────────────┼─────────────────────────────┼─────────────────┤\n",
              "│ max_pooling2d (\u001b[38;5;33mMaxPooling2D\u001b[0m)         │ (\u001b[38;5;45mNone\u001b[0m, \u001b[38;5;34m16\u001b[0m, \u001b[38;5;34m16\u001b[0m, \u001b[38;5;34m32\u001b[0m)          │               \u001b[38;5;34m0\u001b[0m │\n",
              "├──────────────────────────────────────┼─────────────────────────────┼─────────────────┤\n",
              "│ dropout (\u001b[38;5;33mDropout\u001b[0m)                    │ (\u001b[38;5;45mNone\u001b[0m, \u001b[38;5;34m16\u001b[0m, \u001b[38;5;34m16\u001b[0m, \u001b[38;5;34m32\u001b[0m)          │               \u001b[38;5;34m0\u001b[0m │\n",
              "├──────────────────────────────────────┼─────────────────────────────┼─────────────────┤\n",
              "│ conv2d_2 (\u001b[38;5;33mConv2D\u001b[0m)                    │ (\u001b[38;5;45mNone\u001b[0m, \u001b[38;5;34m16\u001b[0m, \u001b[38;5;34m16\u001b[0m, \u001b[38;5;34m64\u001b[0m)          │          \u001b[38;5;34m18,496\u001b[0m │\n",
              "├──────────────────────────────────────┼─────────────────────────────┼─────────────────┤\n",
              "│ conv2d_3 (\u001b[38;5;33mConv2D\u001b[0m)                    │ (\u001b[38;5;45mNone\u001b[0m, \u001b[38;5;34m14\u001b[0m, \u001b[38;5;34m14\u001b[0m, \u001b[38;5;34m64\u001b[0m)          │          \u001b[38;5;34m36,928\u001b[0m │\n",
              "├──────────────────────────────────────┼─────────────────────────────┼─────────────────┤\n",
              "│ max_pooling2d_1 (\u001b[38;5;33mMaxPooling2D\u001b[0m)       │ (\u001b[38;5;45mNone\u001b[0m, \u001b[38;5;34m7\u001b[0m, \u001b[38;5;34m7\u001b[0m, \u001b[38;5;34m64\u001b[0m)            │               \u001b[38;5;34m0\u001b[0m │\n",
              "├──────────────────────────────────────┼─────────────────────────────┼─────────────────┤\n",
              "│ dropout_1 (\u001b[38;5;33mDropout\u001b[0m)                  │ (\u001b[38;5;45mNone\u001b[0m, \u001b[38;5;34m7\u001b[0m, \u001b[38;5;34m7\u001b[0m, \u001b[38;5;34m64\u001b[0m)            │               \u001b[38;5;34m0\u001b[0m │\n",
              "├──────────────────────────────────────┼─────────────────────────────┼─────────────────┤\n",
              "│ flatten (\u001b[38;5;33mFlatten\u001b[0m)                    │ (\u001b[38;5;45mNone\u001b[0m, \u001b[38;5;34m3136\u001b[0m)                │               \u001b[38;5;34m0\u001b[0m │\n",
              "├──────────────────────────────────────┼─────────────────────────────┼─────────────────┤\n",
              "│ dense_4 (\u001b[38;5;33mDense\u001b[0m)                      │ (\u001b[38;5;45mNone\u001b[0m, \u001b[38;5;34m512\u001b[0m)                 │       \u001b[38;5;34m1,606,144\u001b[0m │\n",
              "├──────────────────────────────────────┼─────────────────────────────┼─────────────────┤\n",
              "│ dropout_2 (\u001b[38;5;33mDropout\u001b[0m)                  │ (\u001b[38;5;45mNone\u001b[0m, \u001b[38;5;34m512\u001b[0m)                 │               \u001b[38;5;34m0\u001b[0m │\n",
              "├──────────────────────────────────────┼─────────────────────────────┼─────────────────┤\n",
              "│ dense_5 (\u001b[38;5;33mDense\u001b[0m)                      │ (\u001b[38;5;45mNone\u001b[0m, \u001b[38;5;34m10\u001b[0m)                  │           \u001b[38;5;34m5,130\u001b[0m │\n",
              "└──────────────────────────────────────┴─────────────────────────────┴─────────────────┘\n"
            ],
            "text/html": [
              "<pre style=\"white-space:pre;overflow-x:auto;line-height:normal;font-family:Menlo,'DejaVu Sans Mono',consolas,'Courier New',monospace\">┏━━━━━━━━━━━━━━━━━━━━━━━━━━━━━━━━━━━━━━┳━━━━━━━━━━━━━━━━━━━━━━━━━━━━━┳━━━━━━━━━━━━━━━━━┓\n",
              "┃<span style=\"font-weight: bold\"> Layer (type)                         </span>┃<span style=\"font-weight: bold\"> Output Shape                </span>┃<span style=\"font-weight: bold\">         Param # </span>┃\n",
              "┡━━━━━━━━━━━━━━━━━━━━━━━━━━━━━━━━━━━━━━╇━━━━━━━━━━━━━━━━━━━━━━━━━━━━━╇━━━━━━━━━━━━━━━━━┩\n",
              "│ conv2d (<span style=\"color: #0087ff; text-decoration-color: #0087ff\">Conv2D</span>)                      │ (<span style=\"color: #00d7ff; text-decoration-color: #00d7ff\">None</span>, <span style=\"color: #00af00; text-decoration-color: #00af00\">32</span>, <span style=\"color: #00af00; text-decoration-color: #00af00\">32</span>, <span style=\"color: #00af00; text-decoration-color: #00af00\">32</span>)          │             <span style=\"color: #00af00; text-decoration-color: #00af00\">896</span> │\n",
              "├──────────────────────────────────────┼─────────────────────────────┼─────────────────┤\n",
              "│ conv2d_1 (<span style=\"color: #0087ff; text-decoration-color: #0087ff\">Conv2D</span>)                    │ (<span style=\"color: #00d7ff; text-decoration-color: #00d7ff\">None</span>, <span style=\"color: #00af00; text-decoration-color: #00af00\">32</span>, <span style=\"color: #00af00; text-decoration-color: #00af00\">32</span>, <span style=\"color: #00af00; text-decoration-color: #00af00\">32</span>)          │           <span style=\"color: #00af00; text-decoration-color: #00af00\">9,248</span> │\n",
              "├──────────────────────────────────────┼─────────────────────────────┼─────────────────┤\n",
              "│ max_pooling2d (<span style=\"color: #0087ff; text-decoration-color: #0087ff\">MaxPooling2D</span>)         │ (<span style=\"color: #00d7ff; text-decoration-color: #00d7ff\">None</span>, <span style=\"color: #00af00; text-decoration-color: #00af00\">16</span>, <span style=\"color: #00af00; text-decoration-color: #00af00\">16</span>, <span style=\"color: #00af00; text-decoration-color: #00af00\">32</span>)          │               <span style=\"color: #00af00; text-decoration-color: #00af00\">0</span> │\n",
              "├──────────────────────────────────────┼─────────────────────────────┼─────────────────┤\n",
              "│ dropout (<span style=\"color: #0087ff; text-decoration-color: #0087ff\">Dropout</span>)                    │ (<span style=\"color: #00d7ff; text-decoration-color: #00d7ff\">None</span>, <span style=\"color: #00af00; text-decoration-color: #00af00\">16</span>, <span style=\"color: #00af00; text-decoration-color: #00af00\">16</span>, <span style=\"color: #00af00; text-decoration-color: #00af00\">32</span>)          │               <span style=\"color: #00af00; text-decoration-color: #00af00\">0</span> │\n",
              "├──────────────────────────────────────┼─────────────────────────────┼─────────────────┤\n",
              "│ conv2d_2 (<span style=\"color: #0087ff; text-decoration-color: #0087ff\">Conv2D</span>)                    │ (<span style=\"color: #00d7ff; text-decoration-color: #00d7ff\">None</span>, <span style=\"color: #00af00; text-decoration-color: #00af00\">16</span>, <span style=\"color: #00af00; text-decoration-color: #00af00\">16</span>, <span style=\"color: #00af00; text-decoration-color: #00af00\">64</span>)          │          <span style=\"color: #00af00; text-decoration-color: #00af00\">18,496</span> │\n",
              "├──────────────────────────────────────┼─────────────────────────────┼─────────────────┤\n",
              "│ conv2d_3 (<span style=\"color: #0087ff; text-decoration-color: #0087ff\">Conv2D</span>)                    │ (<span style=\"color: #00d7ff; text-decoration-color: #00d7ff\">None</span>, <span style=\"color: #00af00; text-decoration-color: #00af00\">14</span>, <span style=\"color: #00af00; text-decoration-color: #00af00\">14</span>, <span style=\"color: #00af00; text-decoration-color: #00af00\">64</span>)          │          <span style=\"color: #00af00; text-decoration-color: #00af00\">36,928</span> │\n",
              "├──────────────────────────────────────┼─────────────────────────────┼─────────────────┤\n",
              "│ max_pooling2d_1 (<span style=\"color: #0087ff; text-decoration-color: #0087ff\">MaxPooling2D</span>)       │ (<span style=\"color: #00d7ff; text-decoration-color: #00d7ff\">None</span>, <span style=\"color: #00af00; text-decoration-color: #00af00\">7</span>, <span style=\"color: #00af00; text-decoration-color: #00af00\">7</span>, <span style=\"color: #00af00; text-decoration-color: #00af00\">64</span>)            │               <span style=\"color: #00af00; text-decoration-color: #00af00\">0</span> │\n",
              "├──────────────────────────────────────┼─────────────────────────────┼─────────────────┤\n",
              "│ dropout_1 (<span style=\"color: #0087ff; text-decoration-color: #0087ff\">Dropout</span>)                  │ (<span style=\"color: #00d7ff; text-decoration-color: #00d7ff\">None</span>, <span style=\"color: #00af00; text-decoration-color: #00af00\">7</span>, <span style=\"color: #00af00; text-decoration-color: #00af00\">7</span>, <span style=\"color: #00af00; text-decoration-color: #00af00\">64</span>)            │               <span style=\"color: #00af00; text-decoration-color: #00af00\">0</span> │\n",
              "├──────────────────────────────────────┼─────────────────────────────┼─────────────────┤\n",
              "│ flatten (<span style=\"color: #0087ff; text-decoration-color: #0087ff\">Flatten</span>)                    │ (<span style=\"color: #00d7ff; text-decoration-color: #00d7ff\">None</span>, <span style=\"color: #00af00; text-decoration-color: #00af00\">3136</span>)                │               <span style=\"color: #00af00; text-decoration-color: #00af00\">0</span> │\n",
              "├──────────────────────────────────────┼─────────────────────────────┼─────────────────┤\n",
              "│ dense_4 (<span style=\"color: #0087ff; text-decoration-color: #0087ff\">Dense</span>)                      │ (<span style=\"color: #00d7ff; text-decoration-color: #00d7ff\">None</span>, <span style=\"color: #00af00; text-decoration-color: #00af00\">512</span>)                 │       <span style=\"color: #00af00; text-decoration-color: #00af00\">1,606,144</span> │\n",
              "├──────────────────────────────────────┼─────────────────────────────┼─────────────────┤\n",
              "│ dropout_2 (<span style=\"color: #0087ff; text-decoration-color: #0087ff\">Dropout</span>)                  │ (<span style=\"color: #00d7ff; text-decoration-color: #00d7ff\">None</span>, <span style=\"color: #00af00; text-decoration-color: #00af00\">512</span>)                 │               <span style=\"color: #00af00; text-decoration-color: #00af00\">0</span> │\n",
              "├──────────────────────────────────────┼─────────────────────────────┼─────────────────┤\n",
              "│ dense_5 (<span style=\"color: #0087ff; text-decoration-color: #0087ff\">Dense</span>)                      │ (<span style=\"color: #00d7ff; text-decoration-color: #00d7ff\">None</span>, <span style=\"color: #00af00; text-decoration-color: #00af00\">10</span>)                  │           <span style=\"color: #00af00; text-decoration-color: #00af00\">5,130</span> │\n",
              "└──────────────────────────────────────┴─────────────────────────────┴─────────────────┘\n",
              "</pre>\n"
            ]
          },
          "metadata": {}
        },
        {
          "output_type": "display_data",
          "data": {
            "text/plain": [
              "\u001b[1m Total params: \u001b[0m\u001b[38;5;34m1,676,842\u001b[0m (6.40 MB)\n"
            ],
            "text/html": [
              "<pre style=\"white-space:pre;overflow-x:auto;line-height:normal;font-family:Menlo,'DejaVu Sans Mono',consolas,'Courier New',monospace\"><span style=\"font-weight: bold\"> Total params: </span><span style=\"color: #00af00; text-decoration-color: #00af00\">1,676,842</span> (6.40 MB)\n",
              "</pre>\n"
            ]
          },
          "metadata": {}
        },
        {
          "output_type": "display_data",
          "data": {
            "text/plain": [
              "\u001b[1m Trainable params: \u001b[0m\u001b[38;5;34m1,676,842\u001b[0m (6.40 MB)\n"
            ],
            "text/html": [
              "<pre style=\"white-space:pre;overflow-x:auto;line-height:normal;font-family:Menlo,'DejaVu Sans Mono',consolas,'Courier New',monospace\"><span style=\"font-weight: bold\"> Trainable params: </span><span style=\"color: #00af00; text-decoration-color: #00af00\">1,676,842</span> (6.40 MB)\n",
              "</pre>\n"
            ]
          },
          "metadata": {}
        },
        {
          "output_type": "display_data",
          "data": {
            "text/plain": [
              "\u001b[1m Non-trainable params: \u001b[0m\u001b[38;5;34m0\u001b[0m (0.00 B)\n"
            ],
            "text/html": [
              "<pre style=\"white-space:pre;overflow-x:auto;line-height:normal;font-family:Menlo,'DejaVu Sans Mono',consolas,'Courier New',monospace\"><span style=\"font-weight: bold\"> Non-trainable params: </span><span style=\"color: #00af00; text-decoration-color: #00af00\">0</span> (0.00 B)\n",
              "</pre>\n"
            ]
          },
          "metadata": {}
        }
      ],
      "source": [
        "model = Sequential()\n",
        "model.add(Conv2D(32, (3, 3), padding='same', input_shape=(32, 32, 3), activation='relu'))\n",
        "model.add(Conv2D(32, (3, 3), padding='same', activation='relu'))\n",
        "model.add(MaxPooling2D(pool_size=(2, 2)))\n",
        "model.add(Dropout(0.25))\n",
        "\n",
        "model.add(Conv2D(64, (3, 3), padding='same', activation='relu'))\n",
        "model.add(Conv2D(64, (3, 3), activation='relu'))\n",
        "model.add(MaxPooling2D(pool_size=(2, 2)))\n",
        "model.add(Dropout(0.25))\n",
        "\n",
        "model.add(Flatten())\n",
        "model.add(Dense(512, activation='relu'))\n",
        "model.add(Dropout(0.5))\n",
        "model.add(Dense(nb_classes, activation='softmax'))\n",
        "\n",
        "sgd = SGD(learning_rate=0.01, decay=1e-6, momentum=0.9, nesterov=True)\n",
        "model.compile(loss='categorical_crossentropy',\n",
        "              optimizer=sgd,\n",
        "              metrics=['accuracy']\n",
        "              )\n",
        "model.summary()"
      ]
    },
    {
      "cell_type": "code",
      "execution_count": null,
      "metadata": {
        "colab": {
          "base_uri": "https://localhost:8080/",
          "height": 373
        },
        "id": "p1ROXZNuDUYM",
        "outputId": "594733ea-90fe-4a29-f072-625e2dd03fa0"
      },
      "outputs": [
        {
          "output_type": "stream",
          "name": "stdout",
          "text": [
            "Epoch 1/25\n"
          ]
        },
        {
          "output_type": "error",
          "ename": "KeyboardInterrupt",
          "evalue": "",
          "traceback": [
            "\u001b[0;31m---------------------------------------------------------------------------\u001b[0m",
            "\u001b[0;31mKeyboardInterrupt\u001b[0m                         Traceback (most recent call last)",
            "\u001b[0;32m<ipython-input-11-538c5fc42f83>\u001b[0m in \u001b[0;36m<cell line: 1>\u001b[0;34m()\u001b[0m\n\u001b[0;32m----> 1\u001b[0;31m history = model.fit(x_train, y_train,\n\u001b[0m\u001b[1;32m      2\u001b[0m                     \u001b[0mbatch_size\u001b[0m\u001b[0;34m=\u001b[0m\u001b[0mbatch_size\u001b[0m\u001b[0;34m,\u001b[0m\u001b[0;34m\u001b[0m\u001b[0;34m\u001b[0m\u001b[0m\n\u001b[1;32m      3\u001b[0m                     \u001b[0mepochs\u001b[0m\u001b[0;34m=\u001b[0m\u001b[0mnb_epoch\u001b[0m\u001b[0;34m,\u001b[0m\u001b[0;34m\u001b[0m\u001b[0;34m\u001b[0m\u001b[0m\n\u001b[1;32m      4\u001b[0m                     \u001b[0mvalidation_split\u001b[0m\u001b[0;34m=\u001b[0m\u001b[0;36m0.1\u001b[0m\u001b[0;34m,\u001b[0m\u001b[0;34m\u001b[0m\u001b[0;34m\u001b[0m\u001b[0m\n\u001b[1;32m      5\u001b[0m                     shuffle=True, verbose=2)\n",
            "\u001b[0;32m/usr/local/lib/python3.10/dist-packages/keras/src/utils/traceback_utils.py\u001b[0m in \u001b[0;36merror_handler\u001b[0;34m(*args, **kwargs)\u001b[0m\n\u001b[1;32m    115\u001b[0m         \u001b[0mfiltered_tb\u001b[0m \u001b[0;34m=\u001b[0m \u001b[0;32mNone\u001b[0m\u001b[0;34m\u001b[0m\u001b[0;34m\u001b[0m\u001b[0m\n\u001b[1;32m    116\u001b[0m         \u001b[0;32mtry\u001b[0m\u001b[0;34m:\u001b[0m\u001b[0;34m\u001b[0m\u001b[0;34m\u001b[0m\u001b[0m\n\u001b[0;32m--> 117\u001b[0;31m             \u001b[0;32mreturn\u001b[0m \u001b[0mfn\u001b[0m\u001b[0;34m(\u001b[0m\u001b[0;34m*\u001b[0m\u001b[0margs\u001b[0m\u001b[0;34m,\u001b[0m \u001b[0;34m**\u001b[0m\u001b[0mkwargs\u001b[0m\u001b[0;34m)\u001b[0m\u001b[0;34m\u001b[0m\u001b[0;34m\u001b[0m\u001b[0m\n\u001b[0m\u001b[1;32m    118\u001b[0m         \u001b[0;32mexcept\u001b[0m \u001b[0mException\u001b[0m \u001b[0;32mas\u001b[0m \u001b[0me\u001b[0m\u001b[0;34m:\u001b[0m\u001b[0;34m\u001b[0m\u001b[0;34m\u001b[0m\u001b[0m\n\u001b[1;32m    119\u001b[0m             \u001b[0mfiltered_tb\u001b[0m \u001b[0;34m=\u001b[0m \u001b[0m_process_traceback_frames\u001b[0m\u001b[0;34m(\u001b[0m\u001b[0me\u001b[0m\u001b[0;34m.\u001b[0m\u001b[0m__traceback__\u001b[0m\u001b[0;34m)\u001b[0m\u001b[0;34m\u001b[0m\u001b[0;34m\u001b[0m\u001b[0m\n",
            "\u001b[0;32m/usr/local/lib/python3.10/dist-packages/keras/src/backend/tensorflow/trainer.py\u001b[0m in \u001b[0;36mfit\u001b[0;34m(self, x, y, batch_size, epochs, verbose, callbacks, validation_split, validation_data, shuffle, class_weight, sample_weight, initial_epoch, steps_per_epoch, validation_steps, validation_batch_size, validation_freq)\u001b[0m\n\u001b[1;32m    318\u001b[0m                 \u001b[0;32mfor\u001b[0m \u001b[0mstep\u001b[0m\u001b[0;34m,\u001b[0m \u001b[0miterator\u001b[0m \u001b[0;32min\u001b[0m \u001b[0mepoch_iterator\u001b[0m\u001b[0;34m.\u001b[0m\u001b[0menumerate_epoch\u001b[0m\u001b[0;34m(\u001b[0m\u001b[0;34m)\u001b[0m\u001b[0;34m:\u001b[0m\u001b[0;34m\u001b[0m\u001b[0;34m\u001b[0m\u001b[0m\n\u001b[1;32m    319\u001b[0m                     \u001b[0mcallbacks\u001b[0m\u001b[0;34m.\u001b[0m\u001b[0mon_train_batch_begin\u001b[0m\u001b[0;34m(\u001b[0m\u001b[0mstep\u001b[0m\u001b[0;34m)\u001b[0m\u001b[0;34m\u001b[0m\u001b[0;34m\u001b[0m\u001b[0m\n\u001b[0;32m--> 320\u001b[0;31m                     \u001b[0mlogs\u001b[0m \u001b[0;34m=\u001b[0m \u001b[0mself\u001b[0m\u001b[0;34m.\u001b[0m\u001b[0mtrain_function\u001b[0m\u001b[0;34m(\u001b[0m\u001b[0miterator\u001b[0m\u001b[0;34m)\u001b[0m\u001b[0;34m\u001b[0m\u001b[0;34m\u001b[0m\u001b[0m\n\u001b[0m\u001b[1;32m    321\u001b[0m                     \u001b[0mlogs\u001b[0m \u001b[0;34m=\u001b[0m \u001b[0mself\u001b[0m\u001b[0;34m.\u001b[0m\u001b[0m_pythonify_logs\u001b[0m\u001b[0;34m(\u001b[0m\u001b[0mlogs\u001b[0m\u001b[0;34m)\u001b[0m\u001b[0;34m\u001b[0m\u001b[0;34m\u001b[0m\u001b[0m\n\u001b[1;32m    322\u001b[0m                     \u001b[0mcallbacks\u001b[0m\u001b[0;34m.\u001b[0m\u001b[0mon_train_batch_end\u001b[0m\u001b[0;34m(\u001b[0m\u001b[0mstep\u001b[0m\u001b[0;34m,\u001b[0m \u001b[0mlogs\u001b[0m\u001b[0;34m)\u001b[0m\u001b[0;34m\u001b[0m\u001b[0;34m\u001b[0m\u001b[0m\n",
            "\u001b[0;32m/usr/local/lib/python3.10/dist-packages/tensorflow/python/util/traceback_utils.py\u001b[0m in \u001b[0;36merror_handler\u001b[0;34m(*args, **kwargs)\u001b[0m\n\u001b[1;32m    148\u001b[0m     \u001b[0mfiltered_tb\u001b[0m \u001b[0;34m=\u001b[0m \u001b[0;32mNone\u001b[0m\u001b[0;34m\u001b[0m\u001b[0;34m\u001b[0m\u001b[0m\n\u001b[1;32m    149\u001b[0m     \u001b[0;32mtry\u001b[0m\u001b[0;34m:\u001b[0m\u001b[0;34m\u001b[0m\u001b[0;34m\u001b[0m\u001b[0m\n\u001b[0;32m--> 150\u001b[0;31m       \u001b[0;32mreturn\u001b[0m \u001b[0mfn\u001b[0m\u001b[0;34m(\u001b[0m\u001b[0;34m*\u001b[0m\u001b[0margs\u001b[0m\u001b[0;34m,\u001b[0m \u001b[0;34m**\u001b[0m\u001b[0mkwargs\u001b[0m\u001b[0;34m)\u001b[0m\u001b[0;34m\u001b[0m\u001b[0;34m\u001b[0m\u001b[0m\n\u001b[0m\u001b[1;32m    151\u001b[0m     \u001b[0;32mexcept\u001b[0m \u001b[0mException\u001b[0m \u001b[0;32mas\u001b[0m \u001b[0me\u001b[0m\u001b[0;34m:\u001b[0m\u001b[0;34m\u001b[0m\u001b[0;34m\u001b[0m\u001b[0m\n\u001b[1;32m    152\u001b[0m       \u001b[0mfiltered_tb\u001b[0m \u001b[0;34m=\u001b[0m \u001b[0m_process_traceback_frames\u001b[0m\u001b[0;34m(\u001b[0m\u001b[0me\u001b[0m\u001b[0;34m.\u001b[0m\u001b[0m__traceback__\u001b[0m\u001b[0;34m)\u001b[0m\u001b[0;34m\u001b[0m\u001b[0;34m\u001b[0m\u001b[0m\n",
            "\u001b[0;32m/usr/local/lib/python3.10/dist-packages/tensorflow/python/eager/polymorphic_function/polymorphic_function.py\u001b[0m in \u001b[0;36m__call__\u001b[0;34m(self, *args, **kwds)\u001b[0m\n\u001b[1;32m    831\u001b[0m \u001b[0;34m\u001b[0m\u001b[0m\n\u001b[1;32m    832\u001b[0m       \u001b[0;32mwith\u001b[0m \u001b[0mOptionalXlaContext\u001b[0m\u001b[0;34m(\u001b[0m\u001b[0mself\u001b[0m\u001b[0;34m.\u001b[0m\u001b[0m_jit_compile\u001b[0m\u001b[0;34m)\u001b[0m\u001b[0;34m:\u001b[0m\u001b[0;34m\u001b[0m\u001b[0;34m\u001b[0m\u001b[0m\n\u001b[0;32m--> 833\u001b[0;31m         \u001b[0mresult\u001b[0m \u001b[0;34m=\u001b[0m \u001b[0mself\u001b[0m\u001b[0;34m.\u001b[0m\u001b[0m_call\u001b[0m\u001b[0;34m(\u001b[0m\u001b[0;34m*\u001b[0m\u001b[0margs\u001b[0m\u001b[0;34m,\u001b[0m \u001b[0;34m**\u001b[0m\u001b[0mkwds\u001b[0m\u001b[0;34m)\u001b[0m\u001b[0;34m\u001b[0m\u001b[0;34m\u001b[0m\u001b[0m\n\u001b[0m\u001b[1;32m    834\u001b[0m \u001b[0;34m\u001b[0m\u001b[0m\n\u001b[1;32m    835\u001b[0m       \u001b[0mnew_tracing_count\u001b[0m \u001b[0;34m=\u001b[0m \u001b[0mself\u001b[0m\u001b[0;34m.\u001b[0m\u001b[0mexperimental_get_tracing_count\u001b[0m\u001b[0;34m(\u001b[0m\u001b[0;34m)\u001b[0m\u001b[0;34m\u001b[0m\u001b[0;34m\u001b[0m\u001b[0m\n",
            "\u001b[0;32m/usr/local/lib/python3.10/dist-packages/tensorflow/python/eager/polymorphic_function/polymorphic_function.py\u001b[0m in \u001b[0;36m_call\u001b[0;34m(self, *args, **kwds)\u001b[0m\n\u001b[1;32m    876\u001b[0m       \u001b[0;31m# In this case we have not created variables on the first call. So we can\u001b[0m\u001b[0;34m\u001b[0m\u001b[0;34m\u001b[0m\u001b[0m\n\u001b[1;32m    877\u001b[0m       \u001b[0;31m# run the first trace but we should fail if variables are created.\u001b[0m\u001b[0;34m\u001b[0m\u001b[0;34m\u001b[0m\u001b[0m\n\u001b[0;32m--> 878\u001b[0;31m       results = tracing_compilation.call_function(\n\u001b[0m\u001b[1;32m    879\u001b[0m           \u001b[0margs\u001b[0m\u001b[0;34m,\u001b[0m \u001b[0mkwds\u001b[0m\u001b[0;34m,\u001b[0m \u001b[0mself\u001b[0m\u001b[0;34m.\u001b[0m\u001b[0m_variable_creation_config\u001b[0m\u001b[0;34m\u001b[0m\u001b[0;34m\u001b[0m\u001b[0m\n\u001b[1;32m    880\u001b[0m       )\n",
            "\u001b[0;32m/usr/local/lib/python3.10/dist-packages/tensorflow/python/eager/polymorphic_function/tracing_compilation.py\u001b[0m in \u001b[0;36mcall_function\u001b[0;34m(args, kwargs, tracing_options)\u001b[0m\n\u001b[1;32m    137\u001b[0m   \u001b[0mbound_args\u001b[0m \u001b[0;34m=\u001b[0m \u001b[0mfunction\u001b[0m\u001b[0;34m.\u001b[0m\u001b[0mfunction_type\u001b[0m\u001b[0;34m.\u001b[0m\u001b[0mbind\u001b[0m\u001b[0;34m(\u001b[0m\u001b[0;34m*\u001b[0m\u001b[0margs\u001b[0m\u001b[0;34m,\u001b[0m \u001b[0;34m**\u001b[0m\u001b[0mkwargs\u001b[0m\u001b[0;34m)\u001b[0m\u001b[0;34m\u001b[0m\u001b[0;34m\u001b[0m\u001b[0m\n\u001b[1;32m    138\u001b[0m   \u001b[0mflat_inputs\u001b[0m \u001b[0;34m=\u001b[0m \u001b[0mfunction\u001b[0m\u001b[0;34m.\u001b[0m\u001b[0mfunction_type\u001b[0m\u001b[0;34m.\u001b[0m\u001b[0munpack_inputs\u001b[0m\u001b[0;34m(\u001b[0m\u001b[0mbound_args\u001b[0m\u001b[0;34m)\u001b[0m\u001b[0;34m\u001b[0m\u001b[0;34m\u001b[0m\u001b[0m\n\u001b[0;32m--> 139\u001b[0;31m   return function._call_flat(  # pylint: disable=protected-access\n\u001b[0m\u001b[1;32m    140\u001b[0m       \u001b[0mflat_inputs\u001b[0m\u001b[0;34m,\u001b[0m \u001b[0mcaptured_inputs\u001b[0m\u001b[0;34m=\u001b[0m\u001b[0mfunction\u001b[0m\u001b[0;34m.\u001b[0m\u001b[0mcaptured_inputs\u001b[0m\u001b[0;34m\u001b[0m\u001b[0;34m\u001b[0m\u001b[0m\n\u001b[1;32m    141\u001b[0m   )\n",
            "\u001b[0;32m/usr/local/lib/python3.10/dist-packages/tensorflow/python/eager/polymorphic_function/concrete_function.py\u001b[0m in \u001b[0;36m_call_flat\u001b[0;34m(self, tensor_inputs, captured_inputs)\u001b[0m\n\u001b[1;32m   1320\u001b[0m         and executing_eagerly):\n\u001b[1;32m   1321\u001b[0m       \u001b[0;31m# No tape is watching; skip to running the function.\u001b[0m\u001b[0;34m\u001b[0m\u001b[0;34m\u001b[0m\u001b[0m\n\u001b[0;32m-> 1322\u001b[0;31m       \u001b[0;32mreturn\u001b[0m \u001b[0mself\u001b[0m\u001b[0;34m.\u001b[0m\u001b[0m_inference_function\u001b[0m\u001b[0;34m.\u001b[0m\u001b[0mcall_preflattened\u001b[0m\u001b[0;34m(\u001b[0m\u001b[0margs\u001b[0m\u001b[0;34m)\u001b[0m\u001b[0;34m\u001b[0m\u001b[0;34m\u001b[0m\u001b[0m\n\u001b[0m\u001b[1;32m   1323\u001b[0m     forward_backward = self._select_forward_and_backward_functions(\n\u001b[1;32m   1324\u001b[0m         \u001b[0margs\u001b[0m\u001b[0;34m,\u001b[0m\u001b[0;34m\u001b[0m\u001b[0;34m\u001b[0m\u001b[0m\n",
            "\u001b[0;32m/usr/local/lib/python3.10/dist-packages/tensorflow/python/eager/polymorphic_function/atomic_function.py\u001b[0m in \u001b[0;36mcall_preflattened\u001b[0;34m(self, args)\u001b[0m\n\u001b[1;32m    214\u001b[0m   \u001b[0;32mdef\u001b[0m \u001b[0mcall_preflattened\u001b[0m\u001b[0;34m(\u001b[0m\u001b[0mself\u001b[0m\u001b[0;34m,\u001b[0m \u001b[0margs\u001b[0m\u001b[0;34m:\u001b[0m \u001b[0mSequence\u001b[0m\u001b[0;34m[\u001b[0m\u001b[0mcore\u001b[0m\u001b[0;34m.\u001b[0m\u001b[0mTensor\u001b[0m\u001b[0;34m]\u001b[0m\u001b[0;34m)\u001b[0m \u001b[0;34m->\u001b[0m \u001b[0mAny\u001b[0m\u001b[0;34m:\u001b[0m\u001b[0;34m\u001b[0m\u001b[0;34m\u001b[0m\u001b[0m\n\u001b[1;32m    215\u001b[0m     \u001b[0;34m\"\"\"Calls with flattened tensor inputs and returns the structured output.\"\"\"\u001b[0m\u001b[0;34m\u001b[0m\u001b[0;34m\u001b[0m\u001b[0m\n\u001b[0;32m--> 216\u001b[0;31m     \u001b[0mflat_outputs\u001b[0m \u001b[0;34m=\u001b[0m \u001b[0mself\u001b[0m\u001b[0;34m.\u001b[0m\u001b[0mcall_flat\u001b[0m\u001b[0;34m(\u001b[0m\u001b[0;34m*\u001b[0m\u001b[0margs\u001b[0m\u001b[0;34m)\u001b[0m\u001b[0;34m\u001b[0m\u001b[0;34m\u001b[0m\u001b[0m\n\u001b[0m\u001b[1;32m    217\u001b[0m     \u001b[0;32mreturn\u001b[0m \u001b[0mself\u001b[0m\u001b[0;34m.\u001b[0m\u001b[0mfunction_type\u001b[0m\u001b[0;34m.\u001b[0m\u001b[0mpack_output\u001b[0m\u001b[0;34m(\u001b[0m\u001b[0mflat_outputs\u001b[0m\u001b[0;34m)\u001b[0m\u001b[0;34m\u001b[0m\u001b[0;34m\u001b[0m\u001b[0m\n\u001b[1;32m    218\u001b[0m \u001b[0;34m\u001b[0m\u001b[0m\n",
            "\u001b[0;32m/usr/local/lib/python3.10/dist-packages/tensorflow/python/eager/polymorphic_function/atomic_function.py\u001b[0m in \u001b[0;36mcall_flat\u001b[0;34m(self, *args)\u001b[0m\n\u001b[1;32m    249\u001b[0m         \u001b[0;32mwith\u001b[0m \u001b[0mrecord\u001b[0m\u001b[0;34m.\u001b[0m\u001b[0mstop_recording\u001b[0m\u001b[0;34m(\u001b[0m\u001b[0;34m)\u001b[0m\u001b[0;34m:\u001b[0m\u001b[0;34m\u001b[0m\u001b[0;34m\u001b[0m\u001b[0m\n\u001b[1;32m    250\u001b[0m           \u001b[0;32mif\u001b[0m \u001b[0mself\u001b[0m\u001b[0;34m.\u001b[0m\u001b[0m_bound_context\u001b[0m\u001b[0;34m.\u001b[0m\u001b[0mexecuting_eagerly\u001b[0m\u001b[0;34m(\u001b[0m\u001b[0;34m)\u001b[0m\u001b[0;34m:\u001b[0m\u001b[0;34m\u001b[0m\u001b[0;34m\u001b[0m\u001b[0m\n\u001b[0;32m--> 251\u001b[0;31m             outputs = self._bound_context.call_function(\n\u001b[0m\u001b[1;32m    252\u001b[0m                 \u001b[0mself\u001b[0m\u001b[0;34m.\u001b[0m\u001b[0mname\u001b[0m\u001b[0;34m,\u001b[0m\u001b[0;34m\u001b[0m\u001b[0;34m\u001b[0m\u001b[0m\n\u001b[1;32m    253\u001b[0m                 \u001b[0mlist\u001b[0m\u001b[0;34m(\u001b[0m\u001b[0margs\u001b[0m\u001b[0;34m)\u001b[0m\u001b[0;34m,\u001b[0m\u001b[0;34m\u001b[0m\u001b[0;34m\u001b[0m\u001b[0m\n",
            "\u001b[0;32m/usr/local/lib/python3.10/dist-packages/tensorflow/python/eager/context.py\u001b[0m in \u001b[0;36mcall_function\u001b[0;34m(self, name, tensor_inputs, num_outputs)\u001b[0m\n\u001b[1;32m   1550\u001b[0m     \u001b[0mcancellation_context\u001b[0m \u001b[0;34m=\u001b[0m \u001b[0mcancellation\u001b[0m\u001b[0;34m.\u001b[0m\u001b[0mcontext\u001b[0m\u001b[0;34m(\u001b[0m\u001b[0;34m)\u001b[0m\u001b[0;34m\u001b[0m\u001b[0;34m\u001b[0m\u001b[0m\n\u001b[1;32m   1551\u001b[0m     \u001b[0;32mif\u001b[0m \u001b[0mcancellation_context\u001b[0m \u001b[0;32mis\u001b[0m \u001b[0;32mNone\u001b[0m\u001b[0;34m:\u001b[0m\u001b[0;34m\u001b[0m\u001b[0;34m\u001b[0m\u001b[0m\n\u001b[0;32m-> 1552\u001b[0;31m       outputs = execute.execute(\n\u001b[0m\u001b[1;32m   1553\u001b[0m           \u001b[0mname\u001b[0m\u001b[0;34m.\u001b[0m\u001b[0mdecode\u001b[0m\u001b[0;34m(\u001b[0m\u001b[0;34m\"utf-8\"\u001b[0m\u001b[0;34m)\u001b[0m\u001b[0;34m,\u001b[0m\u001b[0;34m\u001b[0m\u001b[0;34m\u001b[0m\u001b[0m\n\u001b[1;32m   1554\u001b[0m           \u001b[0mnum_outputs\u001b[0m\u001b[0;34m=\u001b[0m\u001b[0mnum_outputs\u001b[0m\u001b[0;34m,\u001b[0m\u001b[0;34m\u001b[0m\u001b[0;34m\u001b[0m\u001b[0m\n",
            "\u001b[0;32m/usr/local/lib/python3.10/dist-packages/tensorflow/python/eager/execute.py\u001b[0m in \u001b[0;36mquick_execute\u001b[0;34m(op_name, num_outputs, inputs, attrs, ctx, name)\u001b[0m\n\u001b[1;32m     51\u001b[0m   \u001b[0;32mtry\u001b[0m\u001b[0;34m:\u001b[0m\u001b[0;34m\u001b[0m\u001b[0;34m\u001b[0m\u001b[0m\n\u001b[1;32m     52\u001b[0m     \u001b[0mctx\u001b[0m\u001b[0;34m.\u001b[0m\u001b[0mensure_initialized\u001b[0m\u001b[0;34m(\u001b[0m\u001b[0;34m)\u001b[0m\u001b[0;34m\u001b[0m\u001b[0;34m\u001b[0m\u001b[0m\n\u001b[0;32m---> 53\u001b[0;31m     tensors = pywrap_tfe.TFE_Py_Execute(ctx._handle, device_name, op_name,\n\u001b[0m\u001b[1;32m     54\u001b[0m                                         inputs, attrs, num_outputs)\n\u001b[1;32m     55\u001b[0m   \u001b[0;32mexcept\u001b[0m \u001b[0mcore\u001b[0m\u001b[0;34m.\u001b[0m\u001b[0m_NotOkStatusException\u001b[0m \u001b[0;32mas\u001b[0m \u001b[0me\u001b[0m\u001b[0;34m:\u001b[0m\u001b[0;34m\u001b[0m\u001b[0;34m\u001b[0m\u001b[0m\n",
            "\u001b[0;31mKeyboardInterrupt\u001b[0m: "
          ]
        }
      ],
      "source": [
        "history = model.fit(x_train, y_train,\n",
        "                    batch_size=batch_size,\n",
        "                    epochs=nb_epoch,\n",
        "                    validation_split=0.1,\n",
        "                    shuffle=True, verbose=2)"
      ]
    },
    {
      "cell_type": "code",
      "execution_count": null,
      "metadata": {
        "colab": {
          "base_uri": "https://localhost:8080/"
        },
        "id": "_t31_9WJEKAg",
        "outputId": "3bb3ce28-87e4-4448-bc83-72a4bde67393"
      },
      "outputs": [
        {
          "name": "stdout",
          "output_type": "stream",
          "text": [
            "76.78%\n"
          ]
        }
      ],
      "source": [
        "scores = model.evaluate(x_test, y_test, verbose=0)\n",
        "print(\"%.2f%%\" % (scores[1] * 100))"
      ]
    },
    {
      "cell_type": "code",
      "execution_count": null,
      "metadata": {
        "colab": {
          "base_uri": "https://localhost:8080/",
          "height": 927
        },
        "id": "1S7y1h8-Etpn",
        "outputId": "3fbe97fc-e008-4837-ea01-678143d5bd58"
      },
      "outputs": [
        {
          "data": {
            "image/png": "[encoded data removed]",
            "text/plain": [
              "<Figure size 640x480 with 1 Axes>"
            ]
          },
          "metadata": {},
          "output_type": "display_data"
        },
        {
          "data": {
            "image/png": "[encoded data removed]",
            "text/plain": [
              "<Figure size 640x480 with 1 Axes>"
            ]
          },
          "metadata": {},
          "output_type": "display_data"
        }
      ],
      "source": [
        "plt.plot(history.history['accuracy'])\n",
        "plt.plot(history.history['val_accuracy'])\n",
        "plt.title('model accuracy')\n",
        "plt.ylabel('accuracy')\n",
        "plt.xlabel('epoch')\n",
        "plt.legend(['Train', 'Validation'], loc='upper left')\n",
        "plt.show()\n",
        "\n",
        "plt.plot(history.history['loss'])\n",
        "plt.plot(history.history['val_loss'])\n",
        "plt.title('model loss')\n",
        "plt.ylabel('loss')\n",
        "plt.xlabel('epoch')\n",
        "plt.legend(['Train', 'Validation'], loc='upper left')\n",
        "plt.show()"
      ]
    },
    {
      "cell_type": "markdown",
      "metadata": {
        "id": "nfjQP4PZKHyq"
      },
      "source": [
        "### 2-3."
      ]
    },
    {
      "cell_type": "code",
      "execution_count": null,
      "metadata": {
        "id": "qm8nHfIxWpQs"
      },
      "outputs": [],
      "source": [
        "# x_train = np.concatenate((x_train, x_test), axis=0)\n",
        "# y_train = np.concatenate((y_train, y_test), axis=0)"
      ]
    },
    {
      "cell_type": "code",
      "execution_count": null,
      "metadata": {
        "colab": {
          "base_uri": "https://localhost:8080/"
        },
        "id": "ALdH_DvSJ9_c",
        "outputId": "f221e45a-ead9-43cc-ec33-c8fb5984faf0"
      },
      "outputs": [
        {
          "data": {
            "text/html": [
              "<pre style=\"white-space:pre;overflow-x:auto;line-height:normal;font-family:Menlo,'DejaVu Sans Mono',consolas,'Courier New',monospace\"><span style=\"font-weight: bold\">Model: \"sequential_6\"</span>\n",
              "</pre>\n"
            ],
            "text/plain": [
              "\u001b[1mModel: \"sequential_6\"\u001b[0m\n"
            ]
          },
          "metadata": {},
          "output_type": "display_data"
        },
        {
          "data": {
            "text/html": [
              "<pre style=\"white-space:pre;overflow-x:auto;line-height:normal;font-family:Menlo,'DejaVu Sans Mono',consolas,'Courier New',monospace\">┏━━━━━━━━━━━━━━━━━━━━━━━━━━━━━━━━━┳━━━━━━━━━━━━━━━━━━━━━━━━┳━━━━━━━━━━━━━━━┓\n",
              "┃<span style=\"font-weight: bold\"> Layer (type)                    </span>┃<span style=\"font-weight: bold\"> Output Shape           </span>┃<span style=\"font-weight: bold\">       Param # </span>┃\n",
              "┡━━━━━━━━━━━━━━━━━━━━━━━━━━━━━━━━━╇━━━━━━━━━━━━━━━━━━━━━━━━╇━━━━━━━━━━━━━━━┩\n",
              "│ conv2d_24 (<span style=\"color: #0087ff; text-decoration-color: #0087ff\">Conv2D</span>)              │ (<span style=\"color: #00d7ff; text-decoration-color: #00d7ff\">None</span>, <span style=\"color: #00af00; text-decoration-color: #00af00\">32</span>, <span style=\"color: #00af00; text-decoration-color: #00af00\">32</span>, <span style=\"color: #00af00; text-decoration-color: #00af00\">64</span>)     │         <span style=\"color: #00af00; text-decoration-color: #00af00\">1,792</span> │\n",
              "├─────────────────────────────────┼────────────────────────┼───────────────┤\n",
              "│ conv2d_25 (<span style=\"color: #0087ff; text-decoration-color: #0087ff\">Conv2D</span>)              │ (<span style=\"color: #00d7ff; text-decoration-color: #00d7ff\">None</span>, <span style=\"color: #00af00; text-decoration-color: #00af00\">32</span>, <span style=\"color: #00af00; text-decoration-color: #00af00\">32</span>, <span style=\"color: #00af00; text-decoration-color: #00af00\">64</span>)     │        <span style=\"color: #00af00; text-decoration-color: #00af00\">36,928</span> │\n",
              "├─────────────────────────────────┼────────────────────────┼───────────────┤\n",
              "│ batch_normalization_19          │ (<span style=\"color: #00d7ff; text-decoration-color: #00d7ff\">None</span>, <span style=\"color: #00af00; text-decoration-color: #00af00\">32</span>, <span style=\"color: #00af00; text-decoration-color: #00af00\">32</span>, <span style=\"color: #00af00; text-decoration-color: #00af00\">64</span>)     │           <span style=\"color: #00af00; text-decoration-color: #00af00\">256</span> │\n",
              "│ (<span style=\"color: #0087ff; text-decoration-color: #0087ff\">BatchNormalization</span>)            │                        │               │\n",
              "├─────────────────────────────────┼────────────────────────┼───────────────┤\n",
              "│ max_pooling2d_12 (<span style=\"color: #0087ff; text-decoration-color: #0087ff\">MaxPooling2D</span>) │ (<span style=\"color: #00d7ff; text-decoration-color: #00d7ff\">None</span>, <span style=\"color: #00af00; text-decoration-color: #00af00\">16</span>, <span style=\"color: #00af00; text-decoration-color: #00af00\">16</span>, <span style=\"color: #00af00; text-decoration-color: #00af00\">64</span>)     │             <span style=\"color: #00af00; text-decoration-color: #00af00\">0</span> │\n",
              "├─────────────────────────────────┼────────────────────────┼───────────────┤\n",
              "│ dropout_18 (<span style=\"color: #0087ff; text-decoration-color: #0087ff\">Dropout</span>)            │ (<span style=\"color: #00d7ff; text-decoration-color: #00d7ff\">None</span>, <span style=\"color: #00af00; text-decoration-color: #00af00\">16</span>, <span style=\"color: #00af00; text-decoration-color: #00af00\">16</span>, <span style=\"color: #00af00; text-decoration-color: #00af00\">64</span>)     │             <span style=\"color: #00af00; text-decoration-color: #00af00\">0</span> │\n",
              "├─────────────────────────────────┼────────────────────────┼───────────────┤\n",
              "│ conv2d_26 (<span style=\"color: #0087ff; text-decoration-color: #0087ff\">Conv2D</span>)              │ (<span style=\"color: #00d7ff; text-decoration-color: #00d7ff\">None</span>, <span style=\"color: #00af00; text-decoration-color: #00af00\">16</span>, <span style=\"color: #00af00; text-decoration-color: #00af00\">16</span>, <span style=\"color: #00af00; text-decoration-color: #00af00\">128</span>)    │        <span style=\"color: #00af00; text-decoration-color: #00af00\">73,856</span> │\n",
              "├─────────────────────────────────┼────────────────────────┼───────────────┤\n",
              "│ conv2d_27 (<span style=\"color: #0087ff; text-decoration-color: #0087ff\">Conv2D</span>)              │ (<span style=\"color: #00d7ff; text-decoration-color: #00d7ff\">None</span>, <span style=\"color: #00af00; text-decoration-color: #00af00\">14</span>, <span style=\"color: #00af00; text-decoration-color: #00af00\">14</span>, <span style=\"color: #00af00; text-decoration-color: #00af00\">128</span>)    │       <span style=\"color: #00af00; text-decoration-color: #00af00\">147,584</span> │\n",
              "├─────────────────────────────────┼────────────────────────┼───────────────┤\n",
              "│ batch_normalization_20          │ (<span style=\"color: #00d7ff; text-decoration-color: #00d7ff\">None</span>, <span style=\"color: #00af00; text-decoration-color: #00af00\">14</span>, <span style=\"color: #00af00; text-decoration-color: #00af00\">14</span>, <span style=\"color: #00af00; text-decoration-color: #00af00\">128</span>)    │           <span style=\"color: #00af00; text-decoration-color: #00af00\">512</span> │\n",
              "│ (<span style=\"color: #0087ff; text-decoration-color: #0087ff\">BatchNormalization</span>)            │                        │               │\n",
              "├─────────────────────────────────┼────────────────────────┼───────────────┤\n",
              "│ max_pooling2d_13 (<span style=\"color: #0087ff; text-decoration-color: #0087ff\">MaxPooling2D</span>) │ (<span style=\"color: #00d7ff; text-decoration-color: #00d7ff\">None</span>, <span style=\"color: #00af00; text-decoration-color: #00af00\">7</span>, <span style=\"color: #00af00; text-decoration-color: #00af00\">7</span>, <span style=\"color: #00af00; text-decoration-color: #00af00\">128</span>)      │             <span style=\"color: #00af00; text-decoration-color: #00af00\">0</span> │\n",
              "├─────────────────────────────────┼────────────────────────┼───────────────┤\n",
              "│ dropout_19 (<span style=\"color: #0087ff; text-decoration-color: #0087ff\">Dropout</span>)            │ (<span style=\"color: #00d7ff; text-decoration-color: #00d7ff\">None</span>, <span style=\"color: #00af00; text-decoration-color: #00af00\">7</span>, <span style=\"color: #00af00; text-decoration-color: #00af00\">7</span>, <span style=\"color: #00af00; text-decoration-color: #00af00\">128</span>)      │             <span style=\"color: #00af00; text-decoration-color: #00af00\">0</span> │\n",
              "├─────────────────────────────────┼────────────────────────┼───────────────┤\n",
              "│ flatten_6 (<span style=\"color: #0087ff; text-decoration-color: #0087ff\">Flatten</span>)             │ (<span style=\"color: #00d7ff; text-decoration-color: #00d7ff\">None</span>, <span style=\"color: #00af00; text-decoration-color: #00af00\">6272</span>)           │             <span style=\"color: #00af00; text-decoration-color: #00af00\">0</span> │\n",
              "├─────────────────────────────────┼────────────────────────┼───────────────┤\n",
              "│ dense_12 (<span style=\"color: #0087ff; text-decoration-color: #0087ff\">Dense</span>)                │ (<span style=\"color: #00d7ff; text-decoration-color: #00d7ff\">None</span>, <span style=\"color: #00af00; text-decoration-color: #00af00\">512</span>)            │     <span style=\"color: #00af00; text-decoration-color: #00af00\">3,211,776</span> │\n",
              "├─────────────────────────────────┼────────────────────────┼───────────────┤\n",
              "│ batch_normalization_21          │ (<span style=\"color: #00d7ff; text-decoration-color: #00d7ff\">None</span>, <span style=\"color: #00af00; text-decoration-color: #00af00\">512</span>)            │         <span style=\"color: #00af00; text-decoration-color: #00af00\">2,048</span> │\n",
              "│ (<span style=\"color: #0087ff; text-decoration-color: #0087ff\">BatchNormalization</span>)            │                        │               │\n",
              "├─────────────────────────────────┼────────────────────────┼───────────────┤\n",
              "│ dropout_20 (<span style=\"color: #0087ff; text-decoration-color: #0087ff\">Dropout</span>)            │ (<span style=\"color: #00d7ff; text-decoration-color: #00d7ff\">None</span>, <span style=\"color: #00af00; text-decoration-color: #00af00\">512</span>)            │             <span style=\"color: #00af00; text-decoration-color: #00af00\">0</span> │\n",
              "├─────────────────────────────────┼────────────────────────┼───────────────┤\n",
              "│ dense_13 (<span style=\"color: #0087ff; text-decoration-color: #0087ff\">Dense</span>)                │ (<span style=\"color: #00d7ff; text-decoration-color: #00d7ff\">None</span>, <span style=\"color: #00af00; text-decoration-color: #00af00\">10</span>)             │         <span style=\"color: #00af00; text-decoration-color: #00af00\">5,130</span> │\n",
              "└─────────────────────────────────┴────────────────────────┴───────────────┘\n",
              "</pre>\n"
            ],
            "text/plain": [
              "┏━━━━━━━━━━━━━━━━━━━━━━━━━━━━━━━━━┳━━━━━━━━━━━━━━━━━━━━━━━━┳━━━━━━━━━━━━━━━┓\n",
              "┃\u001b[1m \u001b[0m\u001b[1mLayer (type)                   \u001b[0m\u001b[1m \u001b[0m┃\u001b[1m \u001b[0m\u001b[1mOutput Shape          \u001b[0m\u001b[1m \u001b[0m┃\u001b[1m \u001b[0m\u001b[1m      Param #\u001b[0m\u001b[1m \u001b[0m┃\n",
              "┡━━━━━━━━━━━━━━━━━━━━━━━━━━━━━━━━━╇━━━━━━━━━━━━━━━━━━━━━━━━╇━━━━━━━━━━━━━━━┩\n",
              "│ conv2d_24 (\u001b[38;5;33mConv2D\u001b[0m)              │ (\u001b[38;5;45mNone\u001b[0m, \u001b[38;5;34m32\u001b[0m, \u001b[38;5;34m32\u001b[0m, \u001b[38;5;34m64\u001b[0m)     │         \u001b[38;5;34m1,792\u001b[0m │\n",
              "├─────────────────────────────────┼────────────────────────┼───────────────┤\n",
              "│ conv2d_25 (\u001b[38;5;33mConv2D\u001b[0m)              │ (\u001b[38;5;45mNone\u001b[0m, \u001b[38;5;34m32\u001b[0m, \u001b[38;5;34m32\u001b[0m, \u001b[38;5;34m64\u001b[0m)     │        \u001b[38;5;34m36,928\u001b[0m │\n",
              "├─────────────────────────────────┼────────────────────────┼───────────────┤\n",
              "│ batch_normalization_19          │ (\u001b[38;5;45mNone\u001b[0m, \u001b[38;5;34m32\u001b[0m, \u001b[38;5;34m32\u001b[0m, \u001b[38;5;34m64\u001b[0m)     │           \u001b[38;5;34m256\u001b[0m │\n",
              "│ (\u001b[38;5;33mBatchNormalization\u001b[0m)            │                        │               │\n",
              "├─────────────────────────────────┼────────────────────────┼───────────────┤\n",
              "│ max_pooling2d_12 (\u001b[38;5;33mMaxPooling2D\u001b[0m) │ (\u001b[38;5;45mNone\u001b[0m, \u001b[38;5;34m16\u001b[0m, \u001b[38;5;34m16\u001b[0m, \u001b[38;5;34m64\u001b[0m)     │             \u001b[38;5;34m0\u001b[0m │\n",
              "├─────────────────────────────────┼────────────────────────┼───────────────┤\n",
              "│ dropout_18 (\u001b[38;5;33mDropout\u001b[0m)            │ (\u001b[38;5;45mNone\u001b[0m, \u001b[38;5;34m16\u001b[0m, \u001b[38;5;34m16\u001b[0m, \u001b[38;5;34m64\u001b[0m)     │             \u001b[38;5;34m0\u001b[0m │\n",
              "├─────────────────────────────────┼────────────────────────┼───────────────┤\n",
              "│ conv2d_26 (\u001b[38;5;33mConv2D\u001b[0m)              │ (\u001b[38;5;45mNone\u001b[0m, \u001b[38;5;34m16\u001b[0m, \u001b[38;5;34m16\u001b[0m, \u001b[38;5;34m128\u001b[0m)    │        \u001b[38;5;34m73,856\u001b[0m │\n",
              "├─────────────────────────────────┼────────────────────────┼───────────────┤\n",
              "│ conv2d_27 (\u001b[38;5;33mConv2D\u001b[0m)              │ (\u001b[38;5;45mNone\u001b[0m, \u001b[38;5;34m14\u001b[0m, \u001b[38;5;34m14\u001b[0m, \u001b[38;5;34m128\u001b[0m)    │       \u001b[38;5;34m147,584\u001b[0m │\n",
              "├─────────────────────────────────┼────────────────────────┼───────────────┤\n",
              "│ batch_normalization_20          │ (\u001b[38;5;45mNone\u001b[0m, \u001b[38;5;34m14\u001b[0m, \u001b[38;5;34m14\u001b[0m, \u001b[38;5;34m128\u001b[0m)    │           \u001b[38;5;34m512\u001b[0m │\n",
              "│ (\u001b[38;5;33mBatchNormalization\u001b[0m)            │                        │               │\n",
              "├─────────────────────────────────┼────────────────────────┼───────────────┤\n",
              "│ max_pooling2d_13 (\u001b[38;5;33mMaxPooling2D\u001b[0m) │ (\u001b[38;5;45mNone\u001b[0m, \u001b[38;5;34m7\u001b[0m, \u001b[38;5;34m7\u001b[0m, \u001b[38;5;34m128\u001b[0m)      │             \u001b[38;5;34m0\u001b[0m │\n",
              "├─────────────────────────────────┼────────────────────────┼───────────────┤\n",
              "│ dropout_19 (\u001b[38;5;33mDropout\u001b[0m)            │ (\u001b[38;5;45mNone\u001b[0m, \u001b[38;5;34m7\u001b[0m, \u001b[38;5;34m7\u001b[0m, \u001b[38;5;34m128\u001b[0m)      │             \u001b[38;5;34m0\u001b[0m │\n",
              "├─────────────────────────────────┼────────────────────────┼───────────────┤\n",
              "│ flatten_6 (\u001b[38;5;33mFlatten\u001b[0m)             │ (\u001b[38;5;45mNone\u001b[0m, \u001b[38;5;34m6272\u001b[0m)           │             \u001b[38;5;34m0\u001b[0m │\n",
              "├─────────────────────────────────┼────────────────────────┼───────────────┤\n",
              "│ dense_12 (\u001b[38;5;33mDense\u001b[0m)                │ (\u001b[38;5;45mNone\u001b[0m, \u001b[38;5;34m512\u001b[0m)            │     \u001b[38;5;34m3,211,776\u001b[0m │\n",
              "├─────────────────────────────────┼────────────────────────┼───────────────┤\n",
              "│ batch_normalization_21          │ (\u001b[38;5;45mNone\u001b[0m, \u001b[38;5;34m512\u001b[0m)            │         \u001b[38;5;34m2,048\u001b[0m │\n",
              "│ (\u001b[38;5;33mBatchNormalization\u001b[0m)            │                        │               │\n",
              "├─────────────────────────────────┼────────────────────────┼───────────────┤\n",
              "│ dropout_20 (\u001b[38;5;33mDropout\u001b[0m)            │ (\u001b[38;5;45mNone\u001b[0m, \u001b[38;5;34m512\u001b[0m)            │             \u001b[38;5;34m0\u001b[0m │\n",
              "├─────────────────────────────────┼────────────────────────┼───────────────┤\n",
              "│ dense_13 (\u001b[38;5;33mDense\u001b[0m)                │ (\u001b[38;5;45mNone\u001b[0m, \u001b[38;5;34m10\u001b[0m)             │         \u001b[38;5;34m5,130\u001b[0m │\n",
              "└─────────────────────────────────┴────────────────────────┴───────────────┘\n"
            ]
          },
          "metadata": {},
          "output_type": "display_data"
        },
        {
          "data": {
            "text/html": [
              "<pre style=\"white-space:pre;overflow-x:auto;line-height:normal;font-family:Menlo,'DejaVu Sans Mono',consolas,'Courier New',monospace\"><span style=\"font-weight: bold\"> Total params: </span><span style=\"color: #00af00; text-decoration-color: #00af00\">3,479,882</span> (13.27 MB)\n",
              "</pre>\n"
            ],
            "text/plain": [
              "\u001b[1m Total params: \u001b[0m\u001b[38;5;34m3,479,882\u001b[0m (13.27 MB)\n"
            ]
          },
          "metadata": {},
          "output_type": "display_data"
        },
        {
          "data": {
            "text/html": [
              "<pre style=\"white-space:pre;overflow-x:auto;line-height:normal;font-family:Menlo,'DejaVu Sans Mono',consolas,'Courier New',monospace\"><span style=\"font-weight: bold\"> Trainable params: </span><span style=\"color: #00af00; text-decoration-color: #00af00\">3,478,474</span> (13.27 MB)\n",
              "</pre>\n"
            ],
            "text/plain": [
              "\u001b[1m Trainable params: \u001b[0m\u001b[38;5;34m3,478,474\u001b[0m (13.27 MB)\n"
            ]
          },
          "metadata": {},
          "output_type": "display_data"
        },
        {
          "data": {
            "text/html": [
              "<pre style=\"white-space:pre;overflow-x:auto;line-height:normal;font-family:Menlo,'DejaVu Sans Mono',consolas,'Courier New',monospace\"><span style=\"font-weight: bold\"> Non-trainable params: </span><span style=\"color: #00af00; text-decoration-color: #00af00\">1,408</span> (5.50 KB)\n",
              "</pre>\n"
            ],
            "text/plain": [
              "\u001b[1m Non-trainable params: \u001b[0m\u001b[38;5;34m1,408\u001b[0m (5.50 KB)\n"
            ]
          },
          "metadata": {},
          "output_type": "display_data"
        }
      ],
      "source": [
        "from keras.layers import BatchNormalization\n",
        "from keras.optimizers import Adam\n",
        "\n",
        "model = Sequential()\n",
        "model.add(Conv2D(64, (3, 3), padding='same', input_shape=(32, 32, 3), activation='relu'))\n",
        "model.add(Conv2D(64, (3, 3), padding='same', activation='relu'))\n",
        "model.add(BatchNormalization())\n",
        "model.add(MaxPooling2D(pool_size=(2, 2)))\n",
        "model.add(Dropout(0.3))\n",
        "\n",
        "model.add(Conv2D(128, (3, 3), padding='same', activation='relu'))\n",
        "model.add(Conv2D(128, (3, 3), activation='relu'))\n",
        "model.add(BatchNormalization())\n",
        "model.add(MaxPooling2D(pool_size=(2, 2)))\n",
        "model.add(Dropout(0.4))\n",
        "\n",
        "model.add(Flatten())\n",
        "model.add(Dense(512, activation='relu'))\n",
        "model.add(BatchNormalization())\n",
        "model.add(Dropout(0.5))\n",
        "model.add(Dense(nb_classes, activation='softmax'))\n",
        "\n",
        "adam = Adam(learning_rate=0.01)\n",
        "model.summary()\n",
        "model.compile(loss='categorical_crossentropy',\n",
        "              optimizer=adam,\n",
        "              metrics=['accuracy']\n",
        "              )"
      ]
    },
    {
      "cell_type": "code",
      "execution_count": null,
      "metadata": {
        "colab": {
          "background_save": true,
          "base_uri": "https://localhost:8080/"
        },
        "id": "kh30chejWjIR",
        "outputId": "d476452c-19d4-437e-ed2d-9e07c6c61010"
      },
      "outputs": [
        {
          "name": "stdout",
          "output_type": "stream",
          "text": [
            "Epoch 1/15\n",
            "391/391 - 138s - 353ms/step - accuracy: 0.4273 - loss: 1.7000\n",
            "Epoch 2/15\n",
            "391/391 - 134s - 342ms/step - accuracy: 0.5992 - loss: 1.1269\n",
            "Epoch 3/15\n",
            "391/391 - 135s - 344ms/step - accuracy: 0.6677 - loss: 0.9450\n",
            "Epoch 4/15\n",
            "391/391 - 134s - 343ms/step - accuracy: 0.7026 - loss: 0.8476\n",
            "Epoch 5/15\n",
            "391/391 - 134s - 343ms/step - accuracy: 0.7270 - loss: 0.7765\n",
            "Epoch 6/15\n",
            "391/391 - 135s - 346ms/step - accuracy: 0.7451 - loss: 0.7275\n",
            "Epoch 7/15\n",
            "391/391 - 134s - 343ms/step - accuracy: 0.7624 - loss: 0.6798\n",
            "Epoch 8/15\n",
            "391/391 - 134s - 343ms/step - accuracy: 0.7395 - loss: 0.7393\n",
            "Epoch 9/15\n",
            "391/391 - 134s - 342ms/step - accuracy: 0.7758 - loss: 0.6373\n",
            "Epoch 10/15\n",
            "391/391 - 135s - 345ms/step - accuracy: 0.7937 - loss: 0.5890\n",
            "Epoch 11/15\n",
            "391/391 - 134s - 342ms/step - accuracy: 0.8034 - loss: 0.5629\n",
            "Epoch 12/15\n",
            "391/391 - 134s - 343ms/step - accuracy: 0.8100 - loss: 0.5386\n",
            "Epoch 13/15\n",
            "391/391 - 133s - 340ms/step - accuracy: 0.8200 - loss: 0.5112\n",
            "Epoch 14/15\n",
            "391/391 - 127s - 326ms/step - accuracy: 0.8285 - loss: 0.4882\n",
            "Epoch 15/15\n",
            "391/391 - 127s - 325ms/step - accuracy: 0.8345 - loss: 0.4756\n"
          ]
        }
      ],
      "source": [
        "history = model.fit(x_train, y_train,\n",
        "                    batch_size=128,\n",
        "                    epochs=20,\n",
        "                    validation_split=.0,\n",
        "                    shuffle=True, verbose=2)"
      ]
    },
    {
      "cell_type": "code",
      "execution_count": null,
      "metadata": {
        "id": "yBD-LzxQbxfc",
        "outputId": "d6cee355-fa7e-47a3-8046-b9aae6fcccd1"
      },
      "outputs": [
        {
          "name": "stdout",
          "output_type": "stream",
          "text": [
            "77.25%\n"
          ]
        }
      ],
      "source": [
        "scores = model.evaluate(x_test, y_test, verbose=0)\n",
        "print(\"%.2f%%\" % (scores[1] * 100))"
      ]
    },
    {
      "cell_type": "code",
      "execution_count": null,
      "metadata": {
        "id": "izlXQdNNbzhX",
        "outputId": "4da852b4-c9bb-4ff7-c5ea-d47cb43c3712",
        "colab": {
          "base_uri": "https://localhost:8080/",
          "height": 211
        }
      },
      "outputs": [
        {
          "output_type": "error",
          "ename": "NameError",
          "evalue": "name 'plt' is not defined",
          "traceback": [
            "\u001b[0;31m---------------------------------------------------------------------------\u001b[0m",
            "\u001b[0;31mNameError\u001b[0m                                 Traceback (most recent call last)",
            "\u001b[0;32m<ipython-input-1-3ec5bd0ff821>\u001b[0m in \u001b[0;36m<cell line: 1>\u001b[0;34m()\u001b[0m\n\u001b[0;32m----> 1\u001b[0;31m \u001b[0mplt\u001b[0m\u001b[0;34m.\u001b[0m\u001b[0mplot\u001b[0m\u001b[0;34m(\u001b[0m\u001b[0mhistory\u001b[0m\u001b[0;34m.\u001b[0m\u001b[0mhistory\u001b[0m\u001b[0;34m[\u001b[0m\u001b[0;34m'accuracy'\u001b[0m\u001b[0;34m]\u001b[0m\u001b[0;34m)\u001b[0m\u001b[0;34m\u001b[0m\u001b[0;34m\u001b[0m\u001b[0m\n\u001b[0m\u001b[1;32m      2\u001b[0m \u001b[0mplt\u001b[0m\u001b[0;34m.\u001b[0m\u001b[0mplot\u001b[0m\u001b[0;34m(\u001b[0m\u001b[0mhistory\u001b[0m\u001b[0;34m.\u001b[0m\u001b[0mhistory\u001b[0m\u001b[0;34m[\u001b[0m\u001b[0;34m'val_accuracy'\u001b[0m\u001b[0;34m]\u001b[0m\u001b[0;34m)\u001b[0m\u001b[0;34m\u001b[0m\u001b[0;34m\u001b[0m\u001b[0m\n\u001b[1;32m      3\u001b[0m \u001b[0mplt\u001b[0m\u001b[0;34m.\u001b[0m\u001b[0mtitle\u001b[0m\u001b[0;34m(\u001b[0m\u001b[0;34m'model accuracy'\u001b[0m\u001b[0;34m)\u001b[0m\u001b[0;34m\u001b[0m\u001b[0;34m\u001b[0m\u001b[0m\n\u001b[1;32m      4\u001b[0m \u001b[0mplt\u001b[0m\u001b[0;34m.\u001b[0m\u001b[0mylabel\u001b[0m\u001b[0;34m(\u001b[0m\u001b[0;34m'accuracy'\u001b[0m\u001b[0;34m)\u001b[0m\u001b[0;34m\u001b[0m\u001b[0;34m\u001b[0m\u001b[0m\n\u001b[1;32m      5\u001b[0m \u001b[0mplt\u001b[0m\u001b[0;34m.\u001b[0m\u001b[0mxlabel\u001b[0m\u001b[0;34m(\u001b[0m\u001b[0;34m'epoch'\u001b[0m\u001b[0;34m)\u001b[0m\u001b[0;34m\u001b[0m\u001b[0;34m\u001b[0m\u001b[0m\n",
            "\u001b[0;31mNameError\u001b[0m: name 'plt' is not defined"
          ]
        }
      ],
      "source": [
        "plt.plot(history.history['accuracy'])\n",
        "plt.plot(history.history['val_accuracy'])\n",
        "plt.title('model accuracy')\n",
        "plt.ylabel('accuracy')\n",
        "plt.xlabel('epoch')\n",
        "plt.legend(['Train', 'Validation'], loc='upper left')\n",
        "plt.show()\n",
        "\n",
        "plt.plot(history.history['loss'])\n",
        "plt.plot(history.history['val_loss'])\n",
        "plt.title('model loss')\n",
        "plt.ylabel('loss')\n",
        "plt.xlabel('epoch')\n",
        "plt.legend(['Train', 'Validation'], loc='upper left')\n",
        "plt.show()"
      ]
    }
  ],
  "metadata": {
    "colab": {
      "provenance": []
    },
    "kernelspec": {
      "display_name": "Python 3",
      "name": "python3"
    },
    "language_info": {
      "codemirror_mode": {
        "name": "ipython",
        "version": 3
      },
      "file_extension": ".py",
      "mimetype": "text/x-python",
      "name": "python",
      "nbconvert_exporter": "python",
      "pygments_lexer": "ipython3",
      "version": "3.10.6"
    }
  },
  "nbformat": 4,
  "nbformat_minor": 0
}